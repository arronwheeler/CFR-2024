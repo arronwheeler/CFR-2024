{
 "cells": [
  {
   "cell_type": "markdown",
   "id": "aa5e2662-6424-4ea8-96b0-c61e0d4b6d59",
   "metadata": {},
   "source": [
    "# Intro to Galaxies"
   ]
  },
  {
   "cell_type": "markdown",
   "id": "b1ad9124-dadf-48e7-a56f-c5c6cea573aa",
   "metadata": {},
   "source": [
    "A **galaxy** is a gravitationally bound system of of stars, stellar remnants (e.g. blackholes), dust, and dark matter."
   ]
  },
  {
   "cell_type": "markdown",
   "id": "0a754a07-8660-4a98-9508-afb457a37013",
   "metadata": {},
   "source": [
    "There are several types of galaxies, which are classified according to their **morphology** i.e. their shape.\n",
    "\n",
    "**Spiral** galaxies resemble large pinwheels. They can be tightly or loosely bound, and some have elongated bars at their centers.\n",
    "\n",
    "**Elliptical** galaxies are large, ovoid galaxies, typically comprised of older stars.\n",
    "\n",
    "**Irregular** galaxies fall into neither category. They have unusual shapes, likely the result of two or more galaxies interacting and merging with each other.\n",
    "\n",
    "**Dwarf** galaxies are small, faint collections of stars and gas. They can have any morphology."
   ]
  },
  {
   "cell_type": "markdown",
   "id": "9a45c073-3c1e-44f2-aab2-500bcc7b09a8",
   "metadata": {},
   "source": [
    "We will be working with data from the [Galaxy Zoo](http://zooniverse.org) project, which harnessed the power of thousands of citizen scientists to classify large amounts of survey data (mainly from Hubble and the Sloan Digital Sky Survey) of galactic morphologies."
   ]
  },
  {
   "cell_type": "markdown",
   "id": "590f2094-ec90-4773-9ed3-c9e1f73d9973",
   "metadata": {},
   "source": [
    "Your first task it to classify a set of approximately 20 galaxies."
   ]
  },
  {
   "cell_type": "markdown",
   "id": "ae45f001-4e17-4007-9466-9ef73971e01e",
   "metadata": {},
   "source": [
    "We will be working with data from the [Galaxy Zoo](http://zooniverse.org) project, which harnessed the power of thousands of citizen scientists to classify large amounts of survey data (mainly from Hubble and the Sloan Digital Sky Survey) of galactic morphologies."
   ]
  },
  {
   "cell_type": "markdown",
   "id": "64e18b66-6a68-4bca-9164-713ff5fcce2a",
   "metadata": {},
   "source": [
    "Your first task it to classify a set of approximately 20 galaxies."
   ]
  },
  {
   "cell_type": "markdown",
   "id": "9687d29d-fb8c-4e95-982e-9c28272db5e3",
   "metadata": {},
   "source": [
    "# Intro to Galaxy Zoo"
   ]
  },
  {
   "cell_type": "markdown",
   "id": "0c9ca48f-2209-4e89-a2a2-39f730e7ae64",
   "metadata": {},
   "source": [
    "Let's get familiar with astronomical data. For this module, we'll be working with both data you generate and the data from thousands of anonymous citizen scientists."
   ]
  },
  {
   "cell_type": "markdown",
   "id": "c30b948c-5999-4a13-847d-8688187a0eef",
   "metadata": {},
   "source": [
    "In order to work with this data, we need to be able to read it in to $\\color{green}{\\texttt{python}}$."
   ]
  },
  {
   "cell_type": "markdown",
   "id": "90d61b91-fc21-404c-b2e5-43affe627225",
   "metadata": {},
   "source": [
    "## Step 1: Loading Modules\n",
    "\n",
    "In order to do just about anything in $\\color{green}{\\texttt{python}}$, we need to utilize structures known as \"libraries\" and \"modules.\" A library is a collection of pre-written code and functionalities that can be imported and used in a $\\color{green}{\\texttt{python}}$ script, providing a set of tools, modules, and functions to streamline and extend the capabilities of $\\color{green}{\\texttt{python}}$ programming for specific tasks or domains. Modules are files containing $\\color{green}{\\texttt{python}}$ code and definitions that can be utilized in other $\\color{green}{\\texttt{python}}$ scripts, providing a way to organize and reuse code. Instead of figuring out how to tell the computer what we want to do from scratch, there are many developers out there who create these modules for public use. Think of them as specialized toolboxes with specialized tools we can use for various purposes. We load them in using these syntaxes:\n",
    "\n",
    "$\\color{white}{a}$1. $\\color{green}{\\texttt{import}} \\color{white}\\texttt{ (library name) }$ (if we want the whole toolbox) $\\color{green}{\\texttt{as}} \\color{white}\\texttt{ (nickname) }$ (we can add a shorter nickname for coding ease)\n",
    "\n",
    "2a. $\\color{green}{\\texttt{from}} \\color{white}\\texttt{ (library name) } \\color{green}{\\texttt{import}} \\color{white}\\texttt{ (module name) } \\color{green}{\\texttt{as}} \\color{white}\\texttt{ (nickname) }$ (if we just want a specific tool)\n",
    "\n",
    "2b. $\\color{green}{\\texttt{import}} \\color{white}\\texttt{ (library.module) } \\color{green}{\\texttt{as}} \\texttt{ (nickname) }$ Both 2a and 2b are doing the same thing.\n",
    "\n",
    "For this module, we'll be starting with three modules:"
   ]
  },
  {
   "cell_type": "code",
   "execution_count": 1,
   "id": "2133d63c-fe4d-45ce-b6b8-10bdb8f7f090",
   "metadata": {},
   "outputs": [],
   "source": [
    "import numpy as np\n",
    "import pandas as pd\n",
    "import matplotlib.pyplot as plt\n",
    "\n",
    "#the following are entirely optional; Erin just loads them in to make the fonts on the plots look a certain way\n",
    "#import matplotlib\n",
    "#matplotlib.rc('font', **{'family':'serif', 'serif':['cmr10']})\n",
    "#plt.rcParams.update({\"text.usetex\": True,  \"axes.formatter.use_mathtext\": True}) "
   ]
  },
  {
   "cell_type": "markdown",
   "id": "704549c8-9158-4356-bdde-0e570a5065eb",
   "metadata": {},
   "source": [
    "$\\texttt{numpy}$ and $\\texttt{pandas}$ are the libraries we'll use to read in and manipulate our data. The former is more basic, and has lots of other functionality for reading in tables of data and performing mathematical operations. The latter is doing the same thing, but in a more sophisticated way. A lot of jobs out there actually use a lot of $\\texttt{pandas}$, so it's a good thing to know how to use it both in and out of academia. $\\texttt{matplotlib}$ is the plotting library that we'll use."
   ]
  },
  {
   "cell_type": "markdown",
   "id": "f23a0444-da9d-4570-9ed2-e7e278d86ea6",
   "metadata": {},
   "source": [
    "## Step 2: Reading in data\n",
    "\n",
    "In order to visualize any data, we need to read it into our code! Most data is in some kind of tabular format, like what you would see in Excel or Google Sheets. It is typically 1D (a list) or 2D (a sheet, with columns and rows), though if you have time series data, you might have 3D or higher-dimension data set. \n",
    "\n",
    "We'll be looking at two data sets today: the Galaxy Zoo data you generated yesterday and earlier this class period, and a larger data set from the Galaxy Zoo team. Let's go ahead and read both of them in with $\\texttt{pandas}$."
   ]
  },
  {
   "cell_type": "code",
   "execution_count": 2,
   "id": "62a101ee-3142-4f7c-b4ec-dcb920f2c517",
   "metadata": {},
   "outputs": [],
   "source": [
    "monday = pd.read_csv('gz101_monday.csv')\n",
    "tuesday = pd.read_csv('gz101_tuesday.csv')\n",
    "research_data = pd.read_csv('galaxyzoo_research.csv')\n"
   ]
  },
  {
   "cell_type": "markdown",
   "id": "34aae154-5db1-468b-a5d0-321eb3112000",
   "metadata": {},
   "source": [
    "$\\texttt{pandas}$ makes it really easy to read in tabular data without needed to specify the column names, data types, or delimiters. It's able to read the table into $\\color{green}{\\texttt{python}}$ in an easy-to-work-with format."
   ]
  },
  {
   "cell_type": "code",
   "execution_count": 3,
   "id": "e272eee6-6265-4027-be09-080990555be2",
   "metadata": {},
   "outputs": [
    {
     "data": {
      "text/html": [
       "<div>\n",
       "<style scoped>\n",
       "    .dataframe tbody tr th:only-of-type {\n",
       "        vertical-align: middle;\n",
       "    }\n",
       "\n",
       "    .dataframe tbody tr th {\n",
       "        vertical-align: top;\n",
       "    }\n",
       "\n",
       "    .dataframe thead th {\n",
       "        text-align: right;\n",
       "    }\n",
       "</style>\n",
       "<table border=\"1\" class=\"dataframe\">\n",
       "  <thead>\n",
       "    <tr style=\"text-align: right;\">\n",
       "      <th></th>\n",
       "      <th>Galaxy ID</th>\n",
       "      <th>Total # of classifications</th>\n",
       "      <th>Elliptical</th>\n",
       "      <th>Spiral</th>\n",
       "      <th>Merger</th>\n",
       "      <th>Artifact</th>\n",
       "      <th>SSDS ID</th>\n",
       "      <th>Image</th>\n",
       "      <th>GZ Original Elliptical</th>\n",
       "      <th>GZ Original Spiral</th>\n",
       "      <th>GZ Original Merger</th>\n",
       "      <th>GZ Original Artifact</th>\n",
       "      <th>Computer Classification</th>\n",
       "    </tr>\n",
       "  </thead>\n",
       "  <tbody>\n",
       "    <tr>\n",
       "      <th>0</th>\n",
       "      <td>1</td>\n",
       "      <td>7</td>\n",
       "      <td>0</td>\n",
       "      <td>6</td>\n",
       "      <td>1</td>\n",
       "      <td>0</td>\n",
       "      <td>1237648720142336185</td>\n",
       "      <td>http://skyserver.sdss.org/dr8/en/tools/explore...</td>\n",
       "      <td>0</td>\n",
       "      <td>37</td>\n",
       "      <td>0</td>\n",
       "      <td>0</td>\n",
       "      <td>Not Elliptical</td>\n",
       "    </tr>\n",
       "    <tr>\n",
       "      <th>1</th>\n",
       "      <td>2</td>\n",
       "      <td>5</td>\n",
       "      <td>2</td>\n",
       "      <td>0</td>\n",
       "      <td>3</td>\n",
       "      <td>0</td>\n",
       "      <td>1237648721215815838</td>\n",
       "      <td>http://skyserver.sdss.org/dr8/en/tools/explore...</td>\n",
       "      <td>3</td>\n",
       "      <td>53</td>\n",
       "      <td>1</td>\n",
       "      <td>0</td>\n",
       "      <td>Not Elliptical</td>\n",
       "    </tr>\n",
       "    <tr>\n",
       "      <th>2</th>\n",
       "      <td>3</td>\n",
       "      <td>7</td>\n",
       "      <td>3</td>\n",
       "      <td>4</td>\n",
       "      <td>0</td>\n",
       "      <td>0</td>\n",
       "      <td>1237648721215946942</td>\n",
       "      <td>http://skyserver.sdss.org/dr8/en/tools/explore...</td>\n",
       "      <td>5</td>\n",
       "      <td>58</td>\n",
       "      <td>0</td>\n",
       "      <td>0</td>\n",
       "      <td>Not Elliptical</td>\n",
       "    </tr>\n",
       "    <tr>\n",
       "      <th>3</th>\n",
       "      <td>4</td>\n",
       "      <td>7</td>\n",
       "      <td>6</td>\n",
       "      <td>0</td>\n",
       "      <td>0</td>\n",
       "      <td>1</td>\n",
       "      <td>1237648721216078045</td>\n",
       "      <td>http://skyserver.sdss.org/dr8/en/tools/explore...</td>\n",
       "      <td>35</td>\n",
       "      <td>0</td>\n",
       "      <td>0</td>\n",
       "      <td>0</td>\n",
       "      <td>Elliptical</td>\n",
       "    </tr>\n",
       "    <tr>\n",
       "      <th>4</th>\n",
       "      <td>5</td>\n",
       "      <td>7</td>\n",
       "      <td>2</td>\n",
       "      <td>2</td>\n",
       "      <td>0</td>\n",
       "      <td>3</td>\n",
       "      <td>1237648721216078463</td>\n",
       "      <td>http://skyserver.sdss.org/dr8/en/tools/explore...</td>\n",
       "      <td>0</td>\n",
       "      <td>31</td>\n",
       "      <td>0</td>\n",
       "      <td>1</td>\n",
       "      <td>Not Elliptical</td>\n",
       "    </tr>\n",
       "    <tr>\n",
       "      <th>5</th>\n",
       "      <td>6</td>\n",
       "      <td>7</td>\n",
       "      <td>0</td>\n",
       "      <td>0</td>\n",
       "      <td>7</td>\n",
       "      <td>0</td>\n",
       "      <td>1237648721245503521</td>\n",
       "      <td>http://skyserver.sdss.org/dr8/en/tools/explore...</td>\n",
       "      <td>1</td>\n",
       "      <td>0</td>\n",
       "      <td>25</td>\n",
       "      <td>1</td>\n",
       "      <td>Elliptical</td>\n",
       "    </tr>\n",
       "    <tr>\n",
       "      <th>6</th>\n",
       "      <td>7</td>\n",
       "      <td>7</td>\n",
       "      <td>0</td>\n",
       "      <td>6</td>\n",
       "      <td>1</td>\n",
       "      <td>0</td>\n",
       "      <td>1237648722295914556</td>\n",
       "      <td>http://skyserver.sdss.org/dr8/en/tools/explore...</td>\n",
       "      <td>0</td>\n",
       "      <td>23</td>\n",
       "      <td>0</td>\n",
       "      <td>0</td>\n",
       "      <td>Not Elliptical</td>\n",
       "    </tr>\n",
       "    <tr>\n",
       "      <th>7</th>\n",
       "      <td>8</td>\n",
       "      <td>6</td>\n",
       "      <td>4</td>\n",
       "      <td>0</td>\n",
       "      <td>1</td>\n",
       "      <td>1</td>\n",
       "      <td>1237650795146576091</td>\n",
       "      <td>http://skyserver.sdss.org/dr8/en/tools/explore...</td>\n",
       "      <td>38</td>\n",
       "      <td>1</td>\n",
       "      <td>0</td>\n",
       "      <td>3</td>\n",
       "      <td>Unable to Determine</td>\n",
       "    </tr>\n",
       "    <tr>\n",
       "      <th>8</th>\n",
       "      <td>9</td>\n",
       "      <td>6</td>\n",
       "      <td>5</td>\n",
       "      <td>0</td>\n",
       "      <td>0</td>\n",
       "      <td>1</td>\n",
       "      <td>1237650795683381426</td>\n",
       "      <td>http://skyserver.sdss.org/dr8/en/tools/explore...</td>\n",
       "      <td>63</td>\n",
       "      <td>2</td>\n",
       "      <td>0</td>\n",
       "      <td>0</td>\n",
       "      <td>Unable to Determine</td>\n",
       "    </tr>\n",
       "    <tr>\n",
       "      <th>9</th>\n",
       "      <td>10</td>\n",
       "      <td>7</td>\n",
       "      <td>0</td>\n",
       "      <td>6</td>\n",
       "      <td>0</td>\n",
       "      <td>1</td>\n",
       "      <td>1237650796219596962</td>\n",
       "      <td>http://skyserver.sdss.org/dr8/en/tools/explore...</td>\n",
       "      <td>0</td>\n",
       "      <td>26</td>\n",
       "      <td>0</td>\n",
       "      <td>0</td>\n",
       "      <td>Not Elliptical</td>\n",
       "    </tr>\n",
       "    <tr>\n",
       "      <th>10</th>\n",
       "      <td>11</td>\n",
       "      <td>7</td>\n",
       "      <td>3</td>\n",
       "      <td>3</td>\n",
       "      <td>1</td>\n",
       "      <td>0</td>\n",
       "      <td>1237650796220121207</td>\n",
       "      <td>http://skyserver.sdss.org/dr8/en/tools/explore...</td>\n",
       "      <td>14</td>\n",
       "      <td>17</td>\n",
       "      <td>0</td>\n",
       "      <td>0</td>\n",
       "      <td>Unable to Determine</td>\n",
       "    </tr>\n",
       "    <tr>\n",
       "      <th>11</th>\n",
       "      <td>12</td>\n",
       "      <td>7</td>\n",
       "      <td>1</td>\n",
       "      <td>6</td>\n",
       "      <td>0</td>\n",
       "      <td>0</td>\n",
       "      <td>1237650796220514489</td>\n",
       "      <td>http://skyserver.sdss.org/dr8/en/tools/explore...</td>\n",
       "      <td>0</td>\n",
       "      <td>25</td>\n",
       "      <td>0</td>\n",
       "      <td>0</td>\n",
       "      <td>Not Elliptical</td>\n",
       "    </tr>\n",
       "    <tr>\n",
       "      <th>12</th>\n",
       "      <td>13</td>\n",
       "      <td>7</td>\n",
       "      <td>3</td>\n",
       "      <td>0</td>\n",
       "      <td>0</td>\n",
       "      <td>4</td>\n",
       "      <td>1237651538188435488</td>\n",
       "      <td>http://skyserver.sdss.org/dr8/en/tools/explore...</td>\n",
       "      <td>0</td>\n",
       "      <td>0</td>\n",
       "      <td>0</td>\n",
       "      <td>31</td>\n",
       "      <td>Not Elliptical</td>\n",
       "    </tr>\n",
       "    <tr>\n",
       "      <th>13</th>\n",
       "      <td>14</td>\n",
       "      <td>6</td>\n",
       "      <td>1</td>\n",
       "      <td>5</td>\n",
       "      <td>0</td>\n",
       "      <td>0</td>\n",
       "      <td>1237651800697143553</td>\n",
       "      <td>http://skyserver.sdss.org/dr8/en/tools/explore...</td>\n",
       "      <td>0</td>\n",
       "      <td>26</td>\n",
       "      <td>0</td>\n",
       "      <td>0</td>\n",
       "      <td>Not Elliptical</td>\n",
       "    </tr>\n",
       "    <tr>\n",
       "      <th>14</th>\n",
       "      <td>15</td>\n",
       "      <td>6</td>\n",
       "      <td>1</td>\n",
       "      <td>0</td>\n",
       "      <td>1</td>\n",
       "      <td>4</td>\n",
       "      <td>1237652899697983542</td>\n",
       "      <td>http://skyserver.sdss.org/dr8/en/tools/explore...</td>\n",
       "      <td>0</td>\n",
       "      <td>0</td>\n",
       "      <td>0</td>\n",
       "      <td>62</td>\n",
       "      <td>Not Elliptical</td>\n",
       "    </tr>\n",
       "    <tr>\n",
       "      <th>15</th>\n",
       "      <td>16</td>\n",
       "      <td>7</td>\n",
       "      <td>0</td>\n",
       "      <td>0</td>\n",
       "      <td>7</td>\n",
       "      <td>0</td>\n",
       "      <td>1237659896173690952</td>\n",
       "      <td>http://skyserver.sdss.org/dr8/en/tools/explore...</td>\n",
       "      <td>0</td>\n",
       "      <td>2</td>\n",
       "      <td>22</td>\n",
       "      <td>0</td>\n",
       "      <td>Not Elliptical</td>\n",
       "    </tr>\n",
       "    <tr>\n",
       "      <th>16</th>\n",
       "      <td>17</td>\n",
       "      <td>5</td>\n",
       "      <td>4</td>\n",
       "      <td>0</td>\n",
       "      <td>0</td>\n",
       "      <td>1</td>\n",
       "      <td>1237663783667302499</td>\n",
       "      <td>http://skyserver.sdss.org/dr8/en/tools/explore...</td>\n",
       "      <td>21</td>\n",
       "      <td>1</td>\n",
       "      <td>0</td>\n",
       "      <td>1</td>\n",
       "      <td>Unable to Determine</td>\n",
       "    </tr>\n",
       "    <tr>\n",
       "      <th>17</th>\n",
       "      <td>18</td>\n",
       "      <td>6</td>\n",
       "      <td>4</td>\n",
       "      <td>1</td>\n",
       "      <td>0</td>\n",
       "      <td>1</td>\n",
       "      <td>1237663784204107951</td>\n",
       "      <td>http://skyserver.sdss.org/dr8/en/tools/explore...</td>\n",
       "      <td>25</td>\n",
       "      <td>1</td>\n",
       "      <td>0</td>\n",
       "      <td>1</td>\n",
       "      <td>Elliptical</td>\n",
       "    </tr>\n",
       "    <tr>\n",
       "      <th>18</th>\n",
       "      <td>19</td>\n",
       "      <td>6</td>\n",
       "      <td>3</td>\n",
       "      <td>3</td>\n",
       "      <td>0</td>\n",
       "      <td>0</td>\n",
       "      <td>1237663785278570672</td>\n",
       "      <td>http://skyserver.sdss.org/dr8/en/tools/explore...</td>\n",
       "      <td>33</td>\n",
       "      <td>22</td>\n",
       "      <td>0</td>\n",
       "      <td>1</td>\n",
       "      <td>Unable to Determine</td>\n",
       "    </tr>\n",
       "    <tr>\n",
       "      <th>19</th>\n",
       "      <td>20</td>\n",
       "      <td>6</td>\n",
       "      <td>3</td>\n",
       "      <td>0</td>\n",
       "      <td>1</td>\n",
       "      <td>2</td>\n",
       "      <td>1237666338115617030</td>\n",
       "      <td>http://skyserver.sdss.org/dr8/en/tools/explore...</td>\n",
       "      <td>15</td>\n",
       "      <td>9</td>\n",
       "      <td>0</td>\n",
       "      <td>6</td>\n",
       "      <td>Unable to Determine</td>\n",
       "    </tr>\n",
       "    <tr>\n",
       "      <th>20</th>\n",
       "      <td>21</td>\n",
       "      <td>6</td>\n",
       "      <td>0</td>\n",
       "      <td>0</td>\n",
       "      <td>5</td>\n",
       "      <td>1</td>\n",
       "      <td>1237667323796127886</td>\n",
       "      <td>http://skyserver.sdss.org/dr8/en/tools/explore...</td>\n",
       "      <td>0</td>\n",
       "      <td>0</td>\n",
       "      <td>35</td>\n",
       "      <td>0</td>\n",
       "      <td>Not Elliptical</td>\n",
       "    </tr>\n",
       "    <tr>\n",
       "      <th>21</th>\n",
       "      <td>22</td>\n",
       "      <td>7</td>\n",
       "      <td>0</td>\n",
       "      <td>0</td>\n",
       "      <td>7</td>\n",
       "      <td>0</td>\n",
       "      <td>1237668365847560462</td>\n",
       "      <td>http://skyserver.sdss.org/dr8/en/tools/explore...</td>\n",
       "      <td>0</td>\n",
       "      <td>0</td>\n",
       "      <td>27</td>\n",
       "      <td>0</td>\n",
       "      <td>Not Elliptical</td>\n",
       "    </tr>\n",
       "  </tbody>\n",
       "</table>\n",
       "</div>"
      ],
      "text/plain": [
       "    Galaxy ID  Total # of classifications  Elliptical  Spiral  Merger  \\\n",
       "0           1                           7           0       6       1   \n",
       "1           2                           5           2       0       3   \n",
       "2           3                           7           3       4       0   \n",
       "3           4                           7           6       0       0   \n",
       "4           5                           7           2       2       0   \n",
       "5           6                           7           0       0       7   \n",
       "6           7                           7           0       6       1   \n",
       "7           8                           6           4       0       1   \n",
       "8           9                           6           5       0       0   \n",
       "9          10                           7           0       6       0   \n",
       "10         11                           7           3       3       1   \n",
       "11         12                           7           1       6       0   \n",
       "12         13                           7           3       0       0   \n",
       "13         14                           6           1       5       0   \n",
       "14         15                           6           1       0       1   \n",
       "15         16                           7           0       0       7   \n",
       "16         17                           5           4       0       0   \n",
       "17         18                           6           4       1       0   \n",
       "18         19                           6           3       3       0   \n",
       "19         20                           6           3       0       1   \n",
       "20         21                           6           0       0       5   \n",
       "21         22                           7           0       0       7   \n",
       "\n",
       "    Artifact              SSDS ID  \\\n",
       "0          0  1237648720142336185   \n",
       "1          0  1237648721215815838   \n",
       "2          0  1237648721215946942   \n",
       "3          1  1237648721216078045   \n",
       "4          3  1237648721216078463   \n",
       "5          0  1237648721245503521   \n",
       "6          0  1237648722295914556   \n",
       "7          1  1237650795146576091   \n",
       "8          1  1237650795683381426   \n",
       "9          1  1237650796219596962   \n",
       "10         0  1237650796220121207   \n",
       "11         0  1237650796220514489   \n",
       "12         4  1237651538188435488   \n",
       "13         0  1237651800697143553   \n",
       "14         4  1237652899697983542   \n",
       "15         0  1237659896173690952   \n",
       "16         1  1237663783667302499   \n",
       "17         1  1237663784204107951   \n",
       "18         0  1237663785278570672   \n",
       "19         2  1237666338115617030   \n",
       "20         1  1237667323796127886   \n",
       "21         0  1237668365847560462   \n",
       "\n",
       "                                                Image  GZ Original Elliptical  \\\n",
       "0   http://skyserver.sdss.org/dr8/en/tools/explore...                       0   \n",
       "1   http://skyserver.sdss.org/dr8/en/tools/explore...                       3   \n",
       "2   http://skyserver.sdss.org/dr8/en/tools/explore...                       5   \n",
       "3   http://skyserver.sdss.org/dr8/en/tools/explore...                      35   \n",
       "4   http://skyserver.sdss.org/dr8/en/tools/explore...                       0   \n",
       "5   http://skyserver.sdss.org/dr8/en/tools/explore...                       1   \n",
       "6   http://skyserver.sdss.org/dr8/en/tools/explore...                       0   \n",
       "7   http://skyserver.sdss.org/dr8/en/tools/explore...                      38   \n",
       "8   http://skyserver.sdss.org/dr8/en/tools/explore...                      63   \n",
       "9   http://skyserver.sdss.org/dr8/en/tools/explore...                       0   \n",
       "10  http://skyserver.sdss.org/dr8/en/tools/explore...                      14   \n",
       "11  http://skyserver.sdss.org/dr8/en/tools/explore...                       0   \n",
       "12  http://skyserver.sdss.org/dr8/en/tools/explore...                       0   \n",
       "13  http://skyserver.sdss.org/dr8/en/tools/explore...                       0   \n",
       "14  http://skyserver.sdss.org/dr8/en/tools/explore...                       0   \n",
       "15  http://skyserver.sdss.org/dr8/en/tools/explore...                       0   \n",
       "16  http://skyserver.sdss.org/dr8/en/tools/explore...                      21   \n",
       "17  http://skyserver.sdss.org/dr8/en/tools/explore...                      25   \n",
       "18  http://skyserver.sdss.org/dr8/en/tools/explore...                      33   \n",
       "19  http://skyserver.sdss.org/dr8/en/tools/explore...                      15   \n",
       "20  http://skyserver.sdss.org/dr8/en/tools/explore...                       0   \n",
       "21  http://skyserver.sdss.org/dr8/en/tools/explore...                       0   \n",
       "\n",
       "    GZ Original Spiral  GZ Original Merger  GZ Original Artifact  \\\n",
       "0                   37                   0                     0   \n",
       "1                   53                   1                     0   \n",
       "2                   58                   0                     0   \n",
       "3                    0                   0                     0   \n",
       "4                   31                   0                     1   \n",
       "5                    0                  25                     1   \n",
       "6                   23                   0                     0   \n",
       "7                    1                   0                     3   \n",
       "8                    2                   0                     0   \n",
       "9                   26                   0                     0   \n",
       "10                  17                   0                     0   \n",
       "11                  25                   0                     0   \n",
       "12                   0                   0                    31   \n",
       "13                  26                   0                     0   \n",
       "14                   0                   0                    62   \n",
       "15                   2                  22                     0   \n",
       "16                   1                   0                     1   \n",
       "17                   1                   0                     1   \n",
       "18                  22                   0                     1   \n",
       "19                   9                   0                     6   \n",
       "20                   0                  35                     0   \n",
       "21                   0                  27                     0   \n",
       "\n",
       "   Computer Classification  \n",
       "0           Not Elliptical  \n",
       "1           Not Elliptical  \n",
       "2           Not Elliptical  \n",
       "3               Elliptical  \n",
       "4           Not Elliptical  \n",
       "5               Elliptical  \n",
       "6           Not Elliptical  \n",
       "7      Unable to Determine  \n",
       "8      Unable to Determine  \n",
       "9           Not Elliptical  \n",
       "10     Unable to Determine  \n",
       "11          Not Elliptical  \n",
       "12          Not Elliptical  \n",
       "13          Not Elliptical  \n",
       "14          Not Elliptical  \n",
       "15          Not Elliptical  \n",
       "16     Unable to Determine  \n",
       "17              Elliptical  \n",
       "18     Unable to Determine  \n",
       "19     Unable to Determine  \n",
       "20          Not Elliptical  \n",
       "21          Not Elliptical  "
      ]
     },
     "execution_count": 3,
     "metadata": {},
     "output_type": "execute_result"
    }
   ],
   "source": [
    "monday"
   ]
  },
  {
   "cell_type": "code",
   "execution_count": 12,
   "id": "7e7ab9f0-41e8-4cf8-8112-bc79a41d9f7d",
   "metadata": {},
   "outputs": [
    {
     "data": {
      "text/html": [
       "<div>\n",
       "<style scoped>\n",
       "    .dataframe tbody tr th:only-of-type {\n",
       "        vertical-align: middle;\n",
       "    }\n",
       "\n",
       "    .dataframe tbody tr th {\n",
       "        vertical-align: top;\n",
       "    }\n",
       "\n",
       "    .dataframe thead th {\n",
       "        text-align: right;\n",
       "    }\n",
       "</style>\n",
       "<table border=\"1\" class=\"dataframe\">\n",
       "  <thead>\n",
       "    <tr style=\"text-align: right;\">\n",
       "      <th></th>\n",
       "      <th>Galaxy ID</th>\n",
       "      <th>Total # of classifications</th>\n",
       "      <th>Elliptical</th>\n",
       "      <th>Spiral</th>\n",
       "      <th>Merger</th>\n",
       "      <th>Artifact</th>\n",
       "      <th>SSDS ID</th>\n",
       "      <th>Image</th>\n",
       "      <th>GZ Original Elliptical</th>\n",
       "      <th>GZ Original Spiral</th>\n",
       "      <th>GZ Original Merger</th>\n",
       "      <th>GZ Original Artifact</th>\n",
       "      <th>Computer Classification</th>\n",
       "    </tr>\n",
       "  </thead>\n",
       "  <tbody>\n",
       "    <tr>\n",
       "      <th>0</th>\n",
       "      <td>1</td>\n",
       "      <td>7</td>\n",
       "      <td>0</td>\n",
       "      <td>6</td>\n",
       "      <td>1</td>\n",
       "      <td>0</td>\n",
       "      <td>1237648720142336185</td>\n",
       "      <td>http://skyserver.sdss.org/dr8/en/tools/explore...</td>\n",
       "      <td>0</td>\n",
       "      <td>37</td>\n",
       "      <td>0</td>\n",
       "      <td>0</td>\n",
       "      <td>Not Elliptical</td>\n",
       "    </tr>\n",
       "    <tr>\n",
       "      <th>1</th>\n",
       "      <td>2</td>\n",
       "      <td>7</td>\n",
       "      <td>3</td>\n",
       "      <td>0</td>\n",
       "      <td>4</td>\n",
       "      <td>0</td>\n",
       "      <td>1237648721215815838</td>\n",
       "      <td>http://skyserver.sdss.org/dr8/en/tools/explore...</td>\n",
       "      <td>3</td>\n",
       "      <td>53</td>\n",
       "      <td>1</td>\n",
       "      <td>0</td>\n",
       "      <td>Not Elliptical</td>\n",
       "    </tr>\n",
       "    <tr>\n",
       "      <th>2</th>\n",
       "      <td>3</td>\n",
       "      <td>7</td>\n",
       "      <td>3</td>\n",
       "      <td>4</td>\n",
       "      <td>0</td>\n",
       "      <td>0</td>\n",
       "      <td>1237648721215946942</td>\n",
       "      <td>http://skyserver.sdss.org/dr8/en/tools/explore...</td>\n",
       "      <td>5</td>\n",
       "      <td>58</td>\n",
       "      <td>0</td>\n",
       "      <td>0</td>\n",
       "      <td>Not Elliptical</td>\n",
       "    </tr>\n",
       "    <tr>\n",
       "      <th>3</th>\n",
       "      <td>4</td>\n",
       "      <td>7</td>\n",
       "      <td>6</td>\n",
       "      <td>0</td>\n",
       "      <td>0</td>\n",
       "      <td>1</td>\n",
       "      <td>1237648721216078045</td>\n",
       "      <td>http://skyserver.sdss.org/dr8/en/tools/explore...</td>\n",
       "      <td>35</td>\n",
       "      <td>0</td>\n",
       "      <td>0</td>\n",
       "      <td>0</td>\n",
       "      <td>Elliptical</td>\n",
       "    </tr>\n",
       "    <tr>\n",
       "      <th>4</th>\n",
       "      <td>5</td>\n",
       "      <td>7</td>\n",
       "      <td>2</td>\n",
       "      <td>2</td>\n",
       "      <td>0</td>\n",
       "      <td>3</td>\n",
       "      <td>1237648721216078463</td>\n",
       "      <td>http://skyserver.sdss.org/dr8/en/tools/explore...</td>\n",
       "      <td>0</td>\n",
       "      <td>31</td>\n",
       "      <td>0</td>\n",
       "      <td>1</td>\n",
       "      <td>Not Elliptical</td>\n",
       "    </tr>\n",
       "    <tr>\n",
       "      <th>5</th>\n",
       "      <td>6</td>\n",
       "      <td>7</td>\n",
       "      <td>0</td>\n",
       "      <td>0</td>\n",
       "      <td>7</td>\n",
       "      <td>0</td>\n",
       "      <td>1237648721245503521</td>\n",
       "      <td>http://skyserver.sdss.org/dr8/en/tools/explore...</td>\n",
       "      <td>1</td>\n",
       "      <td>0</td>\n",
       "      <td>25</td>\n",
       "      <td>1</td>\n",
       "      <td>Elliptical</td>\n",
       "    </tr>\n",
       "    <tr>\n",
       "      <th>6</th>\n",
       "      <td>7</td>\n",
       "      <td>7</td>\n",
       "      <td>0</td>\n",
       "      <td>6</td>\n",
       "      <td>1</td>\n",
       "      <td>0</td>\n",
       "      <td>1237648722295914556</td>\n",
       "      <td>http://skyserver.sdss.org/dr8/en/tools/explore...</td>\n",
       "      <td>0</td>\n",
       "      <td>23</td>\n",
       "      <td>0</td>\n",
       "      <td>0</td>\n",
       "      <td>Not Elliptical</td>\n",
       "    </tr>\n",
       "    <tr>\n",
       "      <th>7</th>\n",
       "      <td>8</td>\n",
       "      <td>7</td>\n",
       "      <td>5</td>\n",
       "      <td>0</td>\n",
       "      <td>1</td>\n",
       "      <td>1</td>\n",
       "      <td>1237650795146576091</td>\n",
       "      <td>http://skyserver.sdss.org/dr8/en/tools/explore...</td>\n",
       "      <td>38</td>\n",
       "      <td>1</td>\n",
       "      <td>0</td>\n",
       "      <td>3</td>\n",
       "      <td>Unable to Determine</td>\n",
       "    </tr>\n",
       "    <tr>\n",
       "      <th>8</th>\n",
       "      <td>9</td>\n",
       "      <td>6</td>\n",
       "      <td>5</td>\n",
       "      <td>0</td>\n",
       "      <td>0</td>\n",
       "      <td>1</td>\n",
       "      <td>1237650795683381426</td>\n",
       "      <td>http://skyserver.sdss.org/dr8/en/tools/explore...</td>\n",
       "      <td>63</td>\n",
       "      <td>2</td>\n",
       "      <td>0</td>\n",
       "      <td>0</td>\n",
       "      <td>Unable to Determine</td>\n",
       "    </tr>\n",
       "    <tr>\n",
       "      <th>9</th>\n",
       "      <td>10</td>\n",
       "      <td>7</td>\n",
       "      <td>0</td>\n",
       "      <td>6</td>\n",
       "      <td>0</td>\n",
       "      <td>1</td>\n",
       "      <td>1237650796219596962</td>\n",
       "      <td>http://skyserver.sdss.org/dr8/en/tools/explore...</td>\n",
       "      <td>0</td>\n",
       "      <td>26</td>\n",
       "      <td>0</td>\n",
       "      <td>0</td>\n",
       "      <td>Not Elliptical</td>\n",
       "    </tr>\n",
       "    <tr>\n",
       "      <th>10</th>\n",
       "      <td>11</td>\n",
       "      <td>7</td>\n",
       "      <td>3</td>\n",
       "      <td>3</td>\n",
       "      <td>1</td>\n",
       "      <td>0</td>\n",
       "      <td>1237650796220121207</td>\n",
       "      <td>http://skyserver.sdss.org/dr8/en/tools/explore...</td>\n",
       "      <td>14</td>\n",
       "      <td>17</td>\n",
       "      <td>0</td>\n",
       "      <td>0</td>\n",
       "      <td>Unable to Determine</td>\n",
       "    </tr>\n",
       "    <tr>\n",
       "      <th>11</th>\n",
       "      <td>12</td>\n",
       "      <td>7</td>\n",
       "      <td>1</td>\n",
       "      <td>6</td>\n",
       "      <td>0</td>\n",
       "      <td>0</td>\n",
       "      <td>1237650796220514489</td>\n",
       "      <td>http://skyserver.sdss.org/dr8/en/tools/explore...</td>\n",
       "      <td>0</td>\n",
       "      <td>25</td>\n",
       "      <td>0</td>\n",
       "      <td>0</td>\n",
       "      <td>Not Elliptical</td>\n",
       "    </tr>\n",
       "    <tr>\n",
       "      <th>12</th>\n",
       "      <td>13</td>\n",
       "      <td>7</td>\n",
       "      <td>3</td>\n",
       "      <td>0</td>\n",
       "      <td>0</td>\n",
       "      <td>4</td>\n",
       "      <td>1237651538188435488</td>\n",
       "      <td>http://skyserver.sdss.org/dr8/en/tools/explore...</td>\n",
       "      <td>0</td>\n",
       "      <td>0</td>\n",
       "      <td>0</td>\n",
       "      <td>31</td>\n",
       "      <td>Not Elliptical</td>\n",
       "    </tr>\n",
       "    <tr>\n",
       "      <th>13</th>\n",
       "      <td>14</td>\n",
       "      <td>7</td>\n",
       "      <td>1</td>\n",
       "      <td>6</td>\n",
       "      <td>0</td>\n",
       "      <td>0</td>\n",
       "      <td>1237651800697143553</td>\n",
       "      <td>http://skyserver.sdss.org/dr8/en/tools/explore...</td>\n",
       "      <td>0</td>\n",
       "      <td>26</td>\n",
       "      <td>0</td>\n",
       "      <td>0</td>\n",
       "      <td>Not Elliptical</td>\n",
       "    </tr>\n",
       "    <tr>\n",
       "      <th>14</th>\n",
       "      <td>15</td>\n",
       "      <td>6</td>\n",
       "      <td>1</td>\n",
       "      <td>0</td>\n",
       "      <td>1</td>\n",
       "      <td>4</td>\n",
       "      <td>1237652899697983542</td>\n",
       "      <td>http://skyserver.sdss.org/dr8/en/tools/explore...</td>\n",
       "      <td>0</td>\n",
       "      <td>0</td>\n",
       "      <td>0</td>\n",
       "      <td>62</td>\n",
       "      <td>Not Elliptical</td>\n",
       "    </tr>\n",
       "    <tr>\n",
       "      <th>15</th>\n",
       "      <td>16</td>\n",
       "      <td>7</td>\n",
       "      <td>0</td>\n",
       "      <td>0</td>\n",
       "      <td>7</td>\n",
       "      <td>0</td>\n",
       "      <td>1237659896173690952</td>\n",
       "      <td>http://skyserver.sdss.org/dr8/en/tools/explore...</td>\n",
       "      <td>0</td>\n",
       "      <td>2</td>\n",
       "      <td>22</td>\n",
       "      <td>0</td>\n",
       "      <td>Not Elliptical</td>\n",
       "    </tr>\n",
       "    <tr>\n",
       "      <th>16</th>\n",
       "      <td>17</td>\n",
       "      <td>7</td>\n",
       "      <td>6</td>\n",
       "      <td>0</td>\n",
       "      <td>0</td>\n",
       "      <td>1</td>\n",
       "      <td>1237663783667302499</td>\n",
       "      <td>http://skyserver.sdss.org/dr8/en/tools/explore...</td>\n",
       "      <td>21</td>\n",
       "      <td>1</td>\n",
       "      <td>0</td>\n",
       "      <td>1</td>\n",
       "      <td>Unable to Determine</td>\n",
       "    </tr>\n",
       "    <tr>\n",
       "      <th>17</th>\n",
       "      <td>18</td>\n",
       "      <td>6</td>\n",
       "      <td>4</td>\n",
       "      <td>1</td>\n",
       "      <td>0</td>\n",
       "      <td>1</td>\n",
       "      <td>1237663784204107951</td>\n",
       "      <td>http://skyserver.sdss.org/dr8/en/tools/explore...</td>\n",
       "      <td>25</td>\n",
       "      <td>1</td>\n",
       "      <td>0</td>\n",
       "      <td>1</td>\n",
       "      <td>Elliptical</td>\n",
       "    </tr>\n",
       "    <tr>\n",
       "      <th>18</th>\n",
       "      <td>19</td>\n",
       "      <td>7</td>\n",
       "      <td>4</td>\n",
       "      <td>3</td>\n",
       "      <td>0</td>\n",
       "      <td>0</td>\n",
       "      <td>1237663785278570672</td>\n",
       "      <td>http://skyserver.sdss.org/dr8/en/tools/explore...</td>\n",
       "      <td>33</td>\n",
       "      <td>22</td>\n",
       "      <td>0</td>\n",
       "      <td>1</td>\n",
       "      <td>Unable to Determine</td>\n",
       "    </tr>\n",
       "    <tr>\n",
       "      <th>19</th>\n",
       "      <td>20</td>\n",
       "      <td>7</td>\n",
       "      <td>3</td>\n",
       "      <td>0</td>\n",
       "      <td>2</td>\n",
       "      <td>2</td>\n",
       "      <td>1237666338115617030</td>\n",
       "      <td>http://skyserver.sdss.org/dr8/en/tools/explore...</td>\n",
       "      <td>15</td>\n",
       "      <td>9</td>\n",
       "      <td>0</td>\n",
       "      <td>6</td>\n",
       "      <td>Unable to Determine</td>\n",
       "    </tr>\n",
       "    <tr>\n",
       "      <th>20</th>\n",
       "      <td>21</td>\n",
       "      <td>7</td>\n",
       "      <td>0</td>\n",
       "      <td>0</td>\n",
       "      <td>6</td>\n",
       "      <td>1</td>\n",
       "      <td>1237667323796127886</td>\n",
       "      <td>http://skyserver.sdss.org/dr8/en/tools/explore...</td>\n",
       "      <td>0</td>\n",
       "      <td>0</td>\n",
       "      <td>35</td>\n",
       "      <td>0</td>\n",
       "      <td>Not Elliptical</td>\n",
       "    </tr>\n",
       "    <tr>\n",
       "      <th>21</th>\n",
       "      <td>22</td>\n",
       "      <td>7</td>\n",
       "      <td>0</td>\n",
       "      <td>0</td>\n",
       "      <td>7</td>\n",
       "      <td>0</td>\n",
       "      <td>1237668365847560462</td>\n",
       "      <td>http://skyserver.sdss.org/dr8/en/tools/explore...</td>\n",
       "      <td>0</td>\n",
       "      <td>0</td>\n",
       "      <td>27</td>\n",
       "      <td>0</td>\n",
       "      <td>Not Elliptical</td>\n",
       "    </tr>\n",
       "  </tbody>\n",
       "</table>\n",
       "</div>"
      ],
      "text/plain": [
       "    Galaxy ID  Total # of classifications  Elliptical  Spiral  Merger  \\\n",
       "0           1                           7           0       6       1   \n",
       "1           2                           7           3       0       4   \n",
       "2           3                           7           3       4       0   \n",
       "3           4                           7           6       0       0   \n",
       "4           5                           7           2       2       0   \n",
       "5           6                           7           0       0       7   \n",
       "6           7                           7           0       6       1   \n",
       "7           8                           7           5       0       1   \n",
       "8           9                           6           5       0       0   \n",
       "9          10                           7           0       6       0   \n",
       "10         11                           7           3       3       1   \n",
       "11         12                           7           1       6       0   \n",
       "12         13                           7           3       0       0   \n",
       "13         14                           7           1       6       0   \n",
       "14         15                           6           1       0       1   \n",
       "15         16                           7           0       0       7   \n",
       "16         17                           7           6       0       0   \n",
       "17         18                           6           4       1       0   \n",
       "18         19                           7           4       3       0   \n",
       "19         20                           7           3       0       2   \n",
       "20         21                           7           0       0       6   \n",
       "21         22                           7           0       0       7   \n",
       "\n",
       "    Artifact              SSDS ID  \\\n",
       "0          0  1237648720142336185   \n",
       "1          0  1237648721215815838   \n",
       "2          0  1237648721215946942   \n",
       "3          1  1237648721216078045   \n",
       "4          3  1237648721216078463   \n",
       "5          0  1237648721245503521   \n",
       "6          0  1237648722295914556   \n",
       "7          1  1237650795146576091   \n",
       "8          1  1237650795683381426   \n",
       "9          1  1237650796219596962   \n",
       "10         0  1237650796220121207   \n",
       "11         0  1237650796220514489   \n",
       "12         4  1237651538188435488   \n",
       "13         0  1237651800697143553   \n",
       "14         4  1237652899697983542   \n",
       "15         0  1237659896173690952   \n",
       "16         1  1237663783667302499   \n",
       "17         1  1237663784204107951   \n",
       "18         0  1237663785278570672   \n",
       "19         2  1237666338115617030   \n",
       "20         1  1237667323796127886   \n",
       "21         0  1237668365847560462   \n",
       "\n",
       "                                                Image  GZ Original Elliptical  \\\n",
       "0   http://skyserver.sdss.org/dr8/en/tools/explore...                       0   \n",
       "1   http://skyserver.sdss.org/dr8/en/tools/explore...                       3   \n",
       "2   http://skyserver.sdss.org/dr8/en/tools/explore...                       5   \n",
       "3   http://skyserver.sdss.org/dr8/en/tools/explore...                      35   \n",
       "4   http://skyserver.sdss.org/dr8/en/tools/explore...                       0   \n",
       "5   http://skyserver.sdss.org/dr8/en/tools/explore...                       1   \n",
       "6   http://skyserver.sdss.org/dr8/en/tools/explore...                       0   \n",
       "7   http://skyserver.sdss.org/dr8/en/tools/explore...                      38   \n",
       "8   http://skyserver.sdss.org/dr8/en/tools/explore...                      63   \n",
       "9   http://skyserver.sdss.org/dr8/en/tools/explore...                       0   \n",
       "10  http://skyserver.sdss.org/dr8/en/tools/explore...                      14   \n",
       "11  http://skyserver.sdss.org/dr8/en/tools/explore...                       0   \n",
       "12  http://skyserver.sdss.org/dr8/en/tools/explore...                       0   \n",
       "13  http://skyserver.sdss.org/dr8/en/tools/explore...                       0   \n",
       "14  http://skyserver.sdss.org/dr8/en/tools/explore...                       0   \n",
       "15  http://skyserver.sdss.org/dr8/en/tools/explore...                       0   \n",
       "16  http://skyserver.sdss.org/dr8/en/tools/explore...                      21   \n",
       "17  http://skyserver.sdss.org/dr8/en/tools/explore...                      25   \n",
       "18  http://skyserver.sdss.org/dr8/en/tools/explore...                      33   \n",
       "19  http://skyserver.sdss.org/dr8/en/tools/explore...                      15   \n",
       "20  http://skyserver.sdss.org/dr8/en/tools/explore...                       0   \n",
       "21  http://skyserver.sdss.org/dr8/en/tools/explore...                       0   \n",
       "\n",
       "    GZ Original Spiral  GZ Original Merger  GZ Original Artifact  \\\n",
       "0                   37                   0                     0   \n",
       "1                   53                   1                     0   \n",
       "2                   58                   0                     0   \n",
       "3                    0                   0                     0   \n",
       "4                   31                   0                     1   \n",
       "5                    0                  25                     1   \n",
       "6                   23                   0                     0   \n",
       "7                    1                   0                     3   \n",
       "8                    2                   0                     0   \n",
       "9                   26                   0                     0   \n",
       "10                  17                   0                     0   \n",
       "11                  25                   0                     0   \n",
       "12                   0                   0                    31   \n",
       "13                  26                   0                     0   \n",
       "14                   0                   0                    62   \n",
       "15                   2                  22                     0   \n",
       "16                   1                   0                     1   \n",
       "17                   1                   0                     1   \n",
       "18                  22                   0                     1   \n",
       "19                   9                   0                     6   \n",
       "20                   0                  35                     0   \n",
       "21                   0                  27                     0   \n",
       "\n",
       "   Computer Classification  \n",
       "0           Not Elliptical  \n",
       "1           Not Elliptical  \n",
       "2           Not Elliptical  \n",
       "3               Elliptical  \n",
       "4           Not Elliptical  \n",
       "5               Elliptical  \n",
       "6           Not Elliptical  \n",
       "7      Unable to Determine  \n",
       "8      Unable to Determine  \n",
       "9           Not Elliptical  \n",
       "10     Unable to Determine  \n",
       "11          Not Elliptical  \n",
       "12          Not Elliptical  \n",
       "13          Not Elliptical  \n",
       "14          Not Elliptical  \n",
       "15          Not Elliptical  \n",
       "16     Unable to Determine  \n",
       "17              Elliptical  \n",
       "18     Unable to Determine  \n",
       "19     Unable to Determine  \n",
       "20          Not Elliptical  \n",
       "21          Not Elliptical  "
      ]
     },
     "execution_count": 12,
     "metadata": {},
     "output_type": "execute_result"
    }
   ],
   "source": [
    "tuesday"
   ]
  },
  {
   "cell_type": "code",
   "execution_count": 4,
   "id": "148bb056-36d8-4b65-8fa5-3d9777da9aba",
   "metadata": {},
   "outputs": [
    {
     "data": {
      "text/html": [
       "<div>\n",
       "<style scoped>\n",
       "    .dataframe tbody tr th:only-of-type {\n",
       "        vertical-align: middle;\n",
       "    }\n",
       "\n",
       "    .dataframe tbody tr th {\n",
       "        vertical-align: top;\n",
       "    }\n",
       "\n",
       "    .dataframe thead th {\n",
       "        text-align: right;\n",
       "    }\n",
       "</style>\n",
       "<table border=\"1\" class=\"dataframe\">\n",
       "  <thead>\n",
       "    <tr style=\"text-align: right;\">\n",
       "      <th></th>\n",
       "      <th>OBJID</th>\n",
       "      <th>RA</th>\n",
       "      <th>DEC</th>\n",
       "      <th>REDSHIFT</th>\n",
       "      <th>P_ELLIPTICAL</th>\n",
       "      <th>P_SPIRAL</th>\n",
       "      <th>UMAG</th>\n",
       "      <th>GMAG</th>\n",
       "      <th>RMAG</th>\n",
       "      <th>IMAG</th>\n",
       "      <th>ZMAG</th>\n",
       "      <th>LOG_MASS</th>\n",
       "      <th>R90_ARCSEC</th>\n",
       "      <th>AXIAL_RATIO</th>\n",
       "      <th>LOCAL_DENSITY</th>\n",
       "      <th>NEARCLUSTER_DIST</th>\n",
       "      <th>NEARCLUSTER_MASS</th>\n",
       "    </tr>\n",
       "  </thead>\n",
       "  <tbody>\n",
       "    <tr>\n",
       "      <th>0</th>\n",
       "      <td>5.880180e+17</td>\n",
       "      <td>218.580808</td>\n",
       "      <td>8.161055</td>\n",
       "      <td>0.053766</td>\n",
       "      <td>0.530869</td>\n",
       "      <td>0.437261</td>\n",
       "      <td>-18.684864</td>\n",
       "      <td>-20.204231</td>\n",
       "      <td>-20.955414</td>\n",
       "      <td>-21.298212</td>\n",
       "      <td>-21.558670</td>\n",
       "      <td>10.516412</td>\n",
       "      <td>6.294165</td>\n",
       "      <td>0.368354</td>\n",
       "      <td>-0.1800</td>\n",
       "      <td>-999.000000</td>\n",
       "      <td>-9.990000e+02</td>\n",
       "    </tr>\n",
       "    <tr>\n",
       "      <th>1</th>\n",
       "      <td>5.877300e+17</td>\n",
       "      <td>239.931122</td>\n",
       "      <td>3.644782</td>\n",
       "      <td>0.054367</td>\n",
       "      <td>0.000000</td>\n",
       "      <td>0.961538</td>\n",
       "      <td>-20.101736</td>\n",
       "      <td>-21.384073</td>\n",
       "      <td>-21.838770</td>\n",
       "      <td>-21.980230</td>\n",
       "      <td>-22.158155</td>\n",
       "      <td>10.592430</td>\n",
       "      <td>14.513707</td>\n",
       "      <td>0.799851</td>\n",
       "      <td>-0.2080</td>\n",
       "      <td>15.959925</td>\n",
       "      <td>5.430000e+12</td>\n",
       "    </tr>\n",
       "    <tr>\n",
       "      <th>2</th>\n",
       "      <td>5.877242e+17</td>\n",
       "      <td>10.641342</td>\n",
       "      <td>15.445178</td>\n",
       "      <td>0.079503</td>\n",
       "      <td>0.470876</td>\n",
       "      <td>0.491672</td>\n",
       "      <td>-19.834967</td>\n",
       "      <td>-21.217686</td>\n",
       "      <td>-21.850147</td>\n",
       "      <td>-22.147160</td>\n",
       "      <td>-22.348995</td>\n",
       "      <td>10.828524</td>\n",
       "      <td>7.862754</td>\n",
       "      <td>0.879052</td>\n",
       "      <td>0.8070</td>\n",
       "      <td>1.059320</td>\n",
       "      <td>3.940000e+14</td>\n",
       "    </tr>\n",
       "    <tr>\n",
       "      <th>3</th>\n",
       "      <td>5.877415e+17</td>\n",
       "      <td>165.379954</td>\n",
       "      <td>28.187846</td>\n",
       "      <td>0.069913</td>\n",
       "      <td>0.532013</td>\n",
       "      <td>0.424623</td>\n",
       "      <td>-19.435511</td>\n",
       "      <td>-20.811283</td>\n",
       "      <td>-21.509943</td>\n",
       "      <td>-21.847149</td>\n",
       "      <td>-22.106108</td>\n",
       "      <td>10.672685</td>\n",
       "      <td>6.840029</td>\n",
       "      <td>0.930676</td>\n",
       "      <td>0.0285</td>\n",
       "      <td>-999.000000</td>\n",
       "      <td>-9.990000e+02</td>\n",
       "    </tr>\n",
       "    <tr>\n",
       "      <th>4</th>\n",
       "      <td>5.877300e+17</td>\n",
       "      <td>216.307612</td>\n",
       "      <td>-1.099459</td>\n",
       "      <td>0.055574</td>\n",
       "      <td>0.647059</td>\n",
       "      <td>0.088235</td>\n",
       "      <td>-18.376757</td>\n",
       "      <td>-19.623747</td>\n",
       "      <td>-20.199842</td>\n",
       "      <td>-20.470566</td>\n",
       "      <td>-20.681120</td>\n",
       "      <td>9.964785</td>\n",
       "      <td>3.187091</td>\n",
       "      <td>0.831526</td>\n",
       "      <td>0.1040</td>\n",
       "      <td>11.604042</td>\n",
       "      <td>3.740000e+13</td>\n",
       "    </tr>\n",
       "    <tr>\n",
       "      <th>...</th>\n",
       "      <td>...</td>\n",
       "      <td>...</td>\n",
       "      <td>...</td>\n",
       "      <td>...</td>\n",
       "      <td>...</td>\n",
       "      <td>...</td>\n",
       "      <td>...</td>\n",
       "      <td>...</td>\n",
       "      <td>...</td>\n",
       "      <td>...</td>\n",
       "      <td>...</td>\n",
       "      <td>...</td>\n",
       "      <td>...</td>\n",
       "      <td>...</td>\n",
       "      <td>...</td>\n",
       "      <td>...</td>\n",
       "      <td>...</td>\n",
       "    </tr>\n",
       "    <tr>\n",
       "      <th>19995</th>\n",
       "      <td>5.877334e+17</td>\n",
       "      <td>231.967240</td>\n",
       "      <td>50.455685</td>\n",
       "      <td>0.073404</td>\n",
       "      <td>0.946228</td>\n",
       "      <td>0.019281</td>\n",
       "      <td>-19.803755</td>\n",
       "      <td>-21.573761</td>\n",
       "      <td>-22.339725</td>\n",
       "      <td>-22.708660</td>\n",
       "      <td>-22.984587</td>\n",
       "      <td>11.098833</td>\n",
       "      <td>8.970359</td>\n",
       "      <td>0.721744</td>\n",
       "      <td>-0.5390</td>\n",
       "      <td>12.696922</td>\n",
       "      <td>1.450000e+14</td>\n",
       "    </tr>\n",
       "    <tr>\n",
       "      <th>19996</th>\n",
       "      <td>5.880177e+17</td>\n",
       "      <td>243.777330</td>\n",
       "      <td>6.092806</td>\n",
       "      <td>0.059610</td>\n",
       "      <td>0.758621</td>\n",
       "      <td>0.000000</td>\n",
       "      <td>-16.315529</td>\n",
       "      <td>-20.404915</td>\n",
       "      <td>-21.282505</td>\n",
       "      <td>-21.124458</td>\n",
       "      <td>-22.213829</td>\n",
       "      <td>11.365675</td>\n",
       "      <td>13.147679</td>\n",
       "      <td>0.741964</td>\n",
       "      <td>-0.5400</td>\n",
       "      <td>-999.000000</td>\n",
       "      <td>-9.990000e+02</td>\n",
       "    </tr>\n",
       "    <tr>\n",
       "      <th>19997</th>\n",
       "      <td>5.877250e+17</td>\n",
       "      <td>184.644965</td>\n",
       "      <td>-1.598657</td>\n",
       "      <td>0.079722</td>\n",
       "      <td>0.129100</td>\n",
       "      <td>0.562271</td>\n",
       "      <td>-19.415325</td>\n",
       "      <td>-20.450088</td>\n",
       "      <td>-20.837673</td>\n",
       "      <td>-20.960474</td>\n",
       "      <td>-21.146212</td>\n",
       "      <td>10.002666</td>\n",
       "      <td>5.776074</td>\n",
       "      <td>0.621813</td>\n",
       "      <td>-0.6670</td>\n",
       "      <td>19.389032</td>\n",
       "      <td>6.630000e+14</td>\n",
       "    </tr>\n",
       "    <tr>\n",
       "      <th>19998</th>\n",
       "      <td>5.877258e+17</td>\n",
       "      <td>118.714675</td>\n",
       "      <td>45.705057</td>\n",
       "      <td>0.052579</td>\n",
       "      <td>0.837452</td>\n",
       "      <td>0.064308</td>\n",
       "      <td>-19.477306</td>\n",
       "      <td>-21.262995</td>\n",
       "      <td>-22.042334</td>\n",
       "      <td>-22.473787</td>\n",
       "      <td>-22.752541</td>\n",
       "      <td>10.986648</td>\n",
       "      <td>11.711008</td>\n",
       "      <td>0.841293</td>\n",
       "      <td>1.4600</td>\n",
       "      <td>0.000000</td>\n",
       "      <td>8.510000e+13</td>\n",
       "    </tr>\n",
       "    <tr>\n",
       "      <th>19999</th>\n",
       "      <td>5.880177e+17</td>\n",
       "      <td>173.612528</td>\n",
       "      <td>12.493277</td>\n",
       "      <td>0.079053</td>\n",
       "      <td>0.847757</td>\n",
       "      <td>0.132819</td>\n",
       "      <td>-18.893919</td>\n",
       "      <td>-20.679129</td>\n",
       "      <td>-21.359232</td>\n",
       "      <td>-21.659225</td>\n",
       "      <td>-21.890398</td>\n",
       "      <td>10.662863</td>\n",
       "      <td>6.333528</td>\n",
       "      <td>0.915966</td>\n",
       "      <td>-0.4550</td>\n",
       "      <td>8.063866</td>\n",
       "      <td>1.560000e+14</td>\n",
       "    </tr>\n",
       "  </tbody>\n",
       "</table>\n",
       "<p>20000 rows × 17 columns</p>\n",
       "</div>"
      ],
      "text/plain": [
       "              OBJID          RA        DEC  REDSHIFT  P_ELLIPTICAL  P_SPIRAL  \\\n",
       "0      5.880180e+17  218.580808   8.161055  0.053766      0.530869  0.437261   \n",
       "1      5.877300e+17  239.931122   3.644782  0.054367      0.000000  0.961538   \n",
       "2      5.877242e+17   10.641342  15.445178  0.079503      0.470876  0.491672   \n",
       "3      5.877415e+17  165.379954  28.187846  0.069913      0.532013  0.424623   \n",
       "4      5.877300e+17  216.307612  -1.099459  0.055574      0.647059  0.088235   \n",
       "...             ...         ...        ...       ...           ...       ...   \n",
       "19995  5.877334e+17  231.967240  50.455685  0.073404      0.946228  0.019281   \n",
       "19996  5.880177e+17  243.777330   6.092806  0.059610      0.758621  0.000000   \n",
       "19997  5.877250e+17  184.644965  -1.598657  0.079722      0.129100  0.562271   \n",
       "19998  5.877258e+17  118.714675  45.705057  0.052579      0.837452  0.064308   \n",
       "19999  5.880177e+17  173.612528  12.493277  0.079053      0.847757  0.132819   \n",
       "\n",
       "            UMAG       GMAG       RMAG       IMAG       ZMAG   LOG_MASS  \\\n",
       "0     -18.684864 -20.204231 -20.955414 -21.298212 -21.558670  10.516412   \n",
       "1     -20.101736 -21.384073 -21.838770 -21.980230 -22.158155  10.592430   \n",
       "2     -19.834967 -21.217686 -21.850147 -22.147160 -22.348995  10.828524   \n",
       "3     -19.435511 -20.811283 -21.509943 -21.847149 -22.106108  10.672685   \n",
       "4     -18.376757 -19.623747 -20.199842 -20.470566 -20.681120   9.964785   \n",
       "...          ...        ...        ...        ...        ...        ...   \n",
       "19995 -19.803755 -21.573761 -22.339725 -22.708660 -22.984587  11.098833   \n",
       "19996 -16.315529 -20.404915 -21.282505 -21.124458 -22.213829  11.365675   \n",
       "19997 -19.415325 -20.450088 -20.837673 -20.960474 -21.146212  10.002666   \n",
       "19998 -19.477306 -21.262995 -22.042334 -22.473787 -22.752541  10.986648   \n",
       "19999 -18.893919 -20.679129 -21.359232 -21.659225 -21.890398  10.662863   \n",
       "\n",
       "       R90_ARCSEC  AXIAL_RATIO  LOCAL_DENSITY  NEARCLUSTER_DIST  \\\n",
       "0        6.294165     0.368354        -0.1800       -999.000000   \n",
       "1       14.513707     0.799851        -0.2080         15.959925   \n",
       "2        7.862754     0.879052         0.8070          1.059320   \n",
       "3        6.840029     0.930676         0.0285       -999.000000   \n",
       "4        3.187091     0.831526         0.1040         11.604042   \n",
       "...           ...          ...            ...               ...   \n",
       "19995    8.970359     0.721744        -0.5390         12.696922   \n",
       "19996   13.147679     0.741964        -0.5400       -999.000000   \n",
       "19997    5.776074     0.621813        -0.6670         19.389032   \n",
       "19998   11.711008     0.841293         1.4600          0.000000   \n",
       "19999    6.333528     0.915966        -0.4550          8.063866   \n",
       "\n",
       "       NEARCLUSTER_MASS  \n",
       "0         -9.990000e+02  \n",
       "1          5.430000e+12  \n",
       "2          3.940000e+14  \n",
       "3         -9.990000e+02  \n",
       "4          3.740000e+13  \n",
       "...                 ...  \n",
       "19995      1.450000e+14  \n",
       "19996     -9.990000e+02  \n",
       "19997      6.630000e+14  \n",
       "19998      8.510000e+13  \n",
       "19999      1.560000e+14  \n",
       "\n",
       "[20000 rows x 17 columns]"
      ]
     },
     "execution_count": 4,
     "metadata": {},
     "output_type": "execute_result"
    }
   ],
   "source": [
    "research_data"
   ]
  },
  {
   "cell_type": "markdown",
   "id": "b55c9851-3802-4d15-a141-4877775936a3",
   "metadata": {},
   "source": [
    "Right now, with you data, we have what's known as a 1-D distribution. We have one dimension of data - galaxy classifications. To visualize this, we traditionally will use histograms. Plotting histograms in $\\texttt{matplotllib}$ is done by calling $\\texttt{plt.hist}$ as follows:"
   ]
  },
  {
   "cell_type": "markdown",
   "id": "9c1630cc-beca-44fc-a7fc-a1ec44101bdd",
   "metadata": {},
   "source": [
    "$\\texttt{plt.hist(data, bins=(number of bins))}$"
   ]
  },
  {
   "cell_type": "markdown",
   "id": "5d03b2cc-fd13-4d24-b1af-8e3df93fb692",
   "metadata": {},
   "source": [
    "Try plotting the class data's Elliptical designations from Monday and Tuesday."
   ]
  },
  {
   "cell_type": "code",
   "execution_count": 5,
   "id": "247fad98-5de2-42e4-abe9-5e9596d5dd1f",
   "metadata": {},
   "outputs": [
    {
     "data": {
      "image/png": "[encoded data removed]",
      "text/plain": [
       "<Figure size 640x480 with 1 Axes>"
      ]
     },
     "metadata": {},
     "output_type": "display_data"
    }
   ],
   "source": [
    "plt.hist(monday['Elliptical'], alpha=0.7, label='Monday')\n",
    "plt.hist(tuesday['Elliptical'], alpha=0.7, label='Tuesday')\n",
    "plt.xlabel('Elliptical Galaxies')\n",
    "plt.ylabel('Number of Galaxies')\n",
    "plt.legend()\n",
    "plt.show()"
   ]
  },
  {
   "cell_type": "markdown",
   "id": "cc5132ec-1cdb-44d0-b182-fcc42c710c03",
   "metadata": {},
   "source": [
    "Working with the class data is small-numbers statistics. Let's look at a bigger dataset, which comes from Galaxy Zoo's database. Plot a histogram from this dataset with a parameter of your choice."
   ]
  },
  {
   "cell_type": "code",
   "execution_count": 6,
   "id": "9d5fddfa-9c67-4475-809f-c376c29d26a5",
   "metadata": {},
   "outputs": [
    {
     "data": {
      "text/plain": [
       "Index(['OBJID', 'RA', 'DEC', 'REDSHIFT', 'P_ELLIPTICAL', 'P_SPIRAL', 'UMAG',\n",
       "       'GMAG', 'RMAG', 'IMAG', 'ZMAG', 'LOG_MASS', 'R90_ARCSEC', 'AXIAL_RATIO',\n",
       "       'LOCAL_DENSITY', 'NEARCLUSTER_DIST', 'NEARCLUSTER_MASS'],\n",
       "      dtype='object')"
      ]
     },
     "execution_count": 6,
     "metadata": {},
     "output_type": "execute_result"
    }
   ],
   "source": [
    "research_data.columns"
   ]
  },
  {
   "cell_type": "code",
   "execution_count": 8,
   "id": "f11bafa1-b534-4697-9380-7c20ed11aa39",
   "metadata": {},
   "outputs": [
    {
     "ename": "SyntaxError",
     "evalue": "invalid syntax. Perhaps you forgot a comma? (2138163693.py, line 1)",
     "output_type": "error",
     "traceback": [
      "\u001b[1;36m  Cell \u001b[1;32mIn[8], line 1\u001b[1;36m\u001b[0m\n\u001b[1;33m    plt.hist(research_data[], bins=50)\u001b[0m\n\u001b[1;37m             ^\u001b[0m\n\u001b[1;31mSyntaxError\u001b[0m\u001b[1;31m:\u001b[0m invalid syntax. Perhaps you forgot a comma?\n"
     ]
    }
   ],
   "source": [
    "plt.hist(research_data[], bins=50)\n",
    "plt.xlabel('')\n",
    "plt.show()"
   ]
  },
  {
   "cell_type": "markdown",
   "id": "635ecf69-f08e-40b2-86cb-5e5e81a14664",
   "metadata": {},
   "source": [
    "The scientists who make use of Galaxy Zoo data will only say something is definitely a spiral or definitely an elliptical galaxy if the percentage of volunteers classifying the object is greater than 80%. If more than 80% of people think something is a spiral galaxy, we can be pretty sure that it is. We can select the data in the $\\texttt{pandas}$ dataframe that meet this criteria as follows:"
   ]
  },
  {
   "cell_type": "code",
   "execution_count": 12,
   "id": "542e9205-5110-454e-bd9c-0968c7986328",
   "metadata": {},
   "outputs": [],
   "source": [
    "spirals = research_data[research_data['P_SPIRAL'] > 0.8]"
   ]
  },
  {
   "cell_type": "code",
   "execution_count": 13,
   "id": "e5164aa7-14fc-42c5-990c-be8f225ffe1b",
   "metadata": {},
   "outputs": [],
   "source": [
    "ellipticals = research_data[research_data['P_ELLIPTICAL'] > 0.8]"
   ]
  },
  {
   "cell_type": "code",
   "execution_count": null,
   "id": "c6c315a5-0cb1-4cc4-974c-9428f7420b16",
   "metadata": {},
   "outputs": [],
   "source": [
    "plt.hist("
   ]
  },
  {
   "cell_type": "markdown",
   "id": "f0590ebf-1d98-4222-b269-89510f387929",
   "metadata": {},
   "source": [
    "Let's introduce a research question now. Yesterday I said that spiral galaxies are typically blue while elliptical galaxies are typically red. The way astronomers calculate color is by taking the luminosities in filters (UGRIZ) and subtracting one from another. To calculate how red or blue something is, we subtract **G - R**. $\\color{red}{G - R > 0.6 \\text{ is red}}$, $\\color{blue}{G - R < 0.6 \\text{ is blue}}.$"
   ]
  },
  {
   "cell_type": "markdown",
   "id": "854425ba-0df8-442e-9f45-19ab19c2e59b",
   "metadata": {},
   "source": [
    "### Are all spiral galaxies blue and are all ellipticals red?"
   ]
  },
  {
   "cell_type": "code",
   "execution_count": 11,
   "id": "c75f0a90-3530-4748-81d1-7e0f11f396dd",
   "metadata": {},
   "outputs": [
    {
     "name": "stderr",
     "output_type": "stream",
     "text": [
      "C:\\Users\\aw4556\\AppData\\Local\\Temp\\ipykernel_19284\\3411068587.py:1: SettingWithCopyWarning: \n",
      "A value is trying to be set on a copy of a slice from a DataFrame.\n",
      "Try using .loc[row_indexer,col_indexer] = value instead\n",
      "\n",
      "See the caveats in the documentation: https://pandas.pydata.org/pandas-docs/stable/user_guide/indexing.html#returning-a-view-versus-a-copy\n",
      "  spirals['COLOR'] = spirals['GMAG'] - spirals['RMAG']\n"
     ]
    }
   ],
   "source": [
    "spirals['COLOR'] = spirals['GMAG'] - spirals['RMAG']"
   ]
  },
  {
   "cell_type": "code",
   "execution_count": 29,
   "id": "093d24be-80fd-4eff-8c4e-a99a249c4a30",
   "metadata": {},
   "outputs": [
    {
     "name": "stderr",
     "output_type": "stream",
     "text": [
      "/var/folders/2d/vzympwgd7rl2_jzt1x6n5bl00000gn/T/ipykernel_94739/3640007864.py:1: SettingWithCopyWarning: \n",
      "A value is trying to be set on a copy of a slice from a DataFrame.\n",
      "Try using .loc[row_indexer,col_indexer] = value instead\n",
      "\n",
      "See the caveats in the documentation: https://pandas.pydata.org/pandas-docs/stable/user_guide/indexing.html#returning-a-view-versus-a-copy\n",
      "  ellipticals['COLOR'] = ellipticals['GMAG'] - ellipticals['RMAG']\n"
     ]
    }
   ],
   "source": [
    "ellipticals['COLOR'] = ellipticals['GMAG'] - ellipticals['RMAG']"
   ]
  },
  {
   "cell_type": "code",
   "execution_count": 38,
   "id": "dfa9f3e0-5c2e-4d15-b2d1-00d72ec9e0df",
   "metadata": {},
   "outputs": [
    {
     "data": {
      "image/png": "[encoded data removed]",
      "text/plain": [
       "<Figure size 640x480 with 1 Axes>"
      ]
     },
     "metadata": {},
     "output_type": "display_data"
    }
   ],
   "source": [
    "plt.hist(spirals['COLOR'], alpha=0.7, bins=50, label='Spirals')\n",
    "plt.hist(ellipticals['COLOR'], alpha=0.7, bins=50, label='Ellipticals')\n",
    "plt.axvline(0.6)\n",
    "plt.legend()\n",
    "plt.xlim(0,1.25)\n",
    "plt.show()"
   ]
  },
  {
   "cell_type": "markdown",
   "id": "a398dd59-f2f8-45eb-a457-5de495a0df6e",
   "metadata": {},
   "source": [
    "### Are all AGN in spiral galaxies?"
   ]
  },
  {
   "cell_type": "markdown",
   "id": "390cf1b9-84c0-432d-b2e8-4f3d6d88bb4f",
   "metadata": {},
   "source": [
    "Back to the assumption that all spirals are blue and all ellipticals are red, if we look at a color histogram for AGN (from the Schawinski data table), would you assume that all of AGN are hosted in spiral galaxies or elliptical galaxies?"
   ]
  },
  {
   "cell_type": "markdown",
   "id": "80110412-574e-4faa-9bab-8c9ddc9e2499",
   "metadata": {},
   "source": [
    "### Step 1: Load in the data table"
   ]
  },
  {
   "cell_type": "code",
   "execution_count": 89,
   "id": "52dc258f-5678-4356-ba04-22987b04afb6",
   "metadata": {},
   "outputs": [],
   "source": [
    "data = pd.read_csv('schawinski2010.csv')"
   ]
  },
  {
   "cell_type": "code",
   "execution_count": 51,
   "id": "9bc7351d-ef07-45e8-9ec1-f5a4debfbe24",
   "metadata": {},
   "outputs": [
    {
     "data": {
      "text/plain": [
       "Index(['OBJID', 'RA', 'DEC', 'REDSHIFT', 'GZ1_MORPHOLOGY', 'BPT_CLASS', 'U',\n",
       "       'G', 'R', 'I', 'Z', 'SIGMA', 'SIGMA_ERR', 'LOG_MSTELLAR', 'L_O3'],\n",
       "      dtype='object')"
      ]
     },
     "execution_count": 51,
     "metadata": {},
     "output_type": "execute_result"
    }
   ],
   "source": [
    "data.columns"
   ]
  },
  {
   "cell_type": "markdown",
   "id": "45b66239-c3a5-4492-a78e-cc03ef7829f2",
   "metadata": {},
   "source": [
    "### Step 2: Calculate the color (G - R)"
   ]
  },
  {
   "cell_type": "code",
   "execution_count": 52,
   "id": "860dad0e-fb8b-41db-a2f3-cda0ea934b81",
   "metadata": {},
   "outputs": [],
   "source": [
    "data['COLOR'] = data['G'] - data['R']"
   ]
  },
  {
   "cell_type": "markdown",
   "id": "ce77e303-9c58-4a5d-8899-9b8551781e58",
   "metadata": {},
   "source": [
    "### Step 3: Plot a histogram of the color (G - R) for the AGN galaxies"
   ]
  },
  {
   "cell_type": "code",
   "execution_count": 47,
   "id": "6f120dfc-0f3c-472f-9a43-8f8e244955f3",
   "metadata": {},
   "outputs": [
    {
     "data": {
      "image/png": "[encoded data removed]",
      "text/plain": [
       "<Figure size 640x480 with 1 Axes>"
      ]
     },
     "metadata": {},
     "output_type": "display_data"
    }
   ],
   "source": [
    "plt.hist(data['COLOR'], alpha=0.7, bins=100, label='AGN Color')\n",
    "plt.xlabel('AGN Color')\n",
    "plt.xlim(0, 1.25)\n",
    "plt.axvline(0.6)\n",
    "plt.show()"
   ]
  },
  {
   "cell_type": "code",
   "execution_count": null,
   "id": "b2c0937c-eb45-40e0-adf3-3eb05fd6d36d",
   "metadata": {},
   "outputs": [],
   "source": []
  },
  {
   "cell_type": "markdown",
   "id": "a23f4a79-93aa-4d7f-8d4a-c48277b2d472",
   "metadata": {},
   "source": [
    "### Step 3: Discuss - can we say AGN are hosted in spirals or ellipticals based on their color data?"
   ]
  },
  {
   "cell_type": "code",
   "execution_count": null,
   "id": "7034a79e-54bb-465a-b50c-e937c9170a4a",
   "metadata": {},
   "outputs": [],
   "source": []
  },
  {
   "cell_type": "markdown",
   "id": "49860c08-73d5-48f7-9cd3-0a06da12ae4a",
   "metadata": {},
   "source": [
    "The AGN dataframe's 'GZ1_MORPHOLOGY' column actually contains info on the type of galaxy (spiral or elliptical) each one is. If you then split the dataset into each type for the histogram."
   ]
  },
  {
   "cell_type": "code",
   "execution_count": 53,
   "id": "f38d9d9d-87b2-4242-82a1-150fa790f3ac",
   "metadata": {},
   "outputs": [],
   "source": [
    "indeterminate = data[data['GZ1_MORPHOLOGY'] == 0]\n",
    "elliptical = data[data['GZ1_MORPHOLOGY'] == 1]\n",
    "spiral = data[data['GZ1_MORPHOLOGY'] == 4]\n",
    "merger = data[data['GZ1_MORPHOLOGY'] == 3]"
   ]
  },
  {
   "cell_type": "code",
   "execution_count": 58,
   "id": "7001dd31-ba70-4a0c-803a-b5d27f507703",
   "metadata": {},
   "outputs": [
    {
     "data": {
      "image/png": "[encoded data removed]",
      "text/plain": [
       "<Figure size 640x480 with 1 Axes>"
      ]
     },
     "metadata": {},
     "output_type": "display_data"
    }
   ],
   "source": [
    "plt.hist(indeterminate['COLOR'], bins=50, alpha=0.7, label='Indeterminate')\n",
    "plt.hist(spiral['COLOR'], bins=50, alpha=0.7, label='Spiral')\n",
    "plt.hist(elliptical['COLOR'], bins=50, alpha=0.7, label='Elliptical')\n",
    "plt.hist(merger['COLOR'], bins=50, alpha=0.7, label='Merger', color='lime')\n",
    "plt.xlim(0,1.25)\n",
    "plt.xlabel('AGN Colors by Morphology')\n",
    "plt.axvline(0.6)\n",
    "plt.legend()\n",
    "plt.show()"
   ]
  },
  {
   "cell_type": "markdown",
   "id": "f6057ac5-8472-4598-bc81-4ce88ba65faa",
   "metadata": {},
   "source": [
    "# Math for Astronomy"
   ]
  },
  {
   "cell_type": "code",
   "execution_count": 90,
   "id": "f049fa73-7172-4cca-b703-8db0dedc5f65",
   "metadata": {},
   "outputs": [],
   "source": [
    "import astropy.units as u\n",
    "import astropy.constants as const"
   ]
  },
  {
   "cell_type": "markdown",
   "id": "e6d99132-7b4a-4e79-a0da-c0480828d143",
   "metadata": {},
   "source": [
    "In astronomy, we often work with large numbers in non-traditional units. For historical reasons, most of our values will utilize what's known as 'cgs' for 'centimeters', 'grams', and 'seconds' (traditional SI units are in meters, kilograms, and seconds). Using smaller units for large things though isn't always great though. So we'll also use units of parsecs (pc), solar masses ($M_{\\odot}$), and years (yr). Parsecs and years in particular can have the usual metric prefixes of kilo- ($10^3$), mega- ($10^6$), and giga- ($10^9$) added on to them to make the numbers more manageable to work with. $\\color{green}{\\texttt{python}}$ can make working with large numbers and units easy though. A lot of people who develop $\\color{green}{\\texttt{python}}$ libraries are or were astronomers, and so they've developed astronomy-specific libraries to make research easier. We'll take a look at the $\\color{green}{\\texttt{astropy}}$ library specificially today."
   ]
  },
  {
   "cell_type": "markdown",
   "id": "d64e29c3-8fd1-49f5-a05a-63c7e0e13487",
   "metadata": {},
   "source": [
    "### Unit conversion"
   ]
  },
  {
   "cell_type": "markdown",
   "id": "e15fa9f6-6b26-4a90-a71d-dd4bcb676ac6",
   "metadata": {},
   "source": [
    "$\\color{green}{\\texttt{astropy}}$ has a module called $\\texttt{units}$ that will let us assign units to our numerical values. Let's take a look:"
   ]
  },
  {
   "cell_type": "code",
   "execution_count": 64,
   "id": "fff2037b-b9d0-42d7-8a4e-5701a0a5e316",
   "metadata": {},
   "outputs": [
    {
     "data": {
      "text/plain": [
       "<module 'astropy.units.si' from '/Users/eflowers/anaconda3/lib/python3.11/site-packages/astropy/units/si.py'>"
      ]
     },
     "execution_count": 64,
     "metadata": {},
     "output_type": "execute_result"
    }
   ],
   "source": [
    "u."
   ]
  },
  {
   "cell_type": "code",
   "execution_count": 91,
   "id": "01af5521-d9e3-477d-8e4c-04dba7f6a4f1",
   "metadata": {},
   "outputs": [
    {
     "data": {
      "text/plain": [
       "Index(['OBJID', 'RA', 'DEC', 'REDSHIFT', 'GZ1_MORPHOLOGY', 'BPT_CLASS', 'U',\n",
       "       'G', 'R', 'I', 'Z', 'SIGMA', 'SIGMA_ERR', 'LOG_MSTELLAR', 'L_O3'],\n",
       "      dtype='object')"
      ]
     },
     "execution_count": 91,
     "metadata": {},
     "output_type": "execute_result"
    }
   ],
   "source": [
    "data.columns"
   ]
  },
  {
   "cell_type": "markdown",
   "id": "d05523e5-3485-4353-997d-75a34e042ce7",
   "metadata": {},
   "source": [
    "We can assign units to values by multiplying the unit to the value. For example, our 'data' Dataframe has a column 'SIGMA', which is the stellar velocity dispersion (statistical spread of velocities about the mean velocity of a group of objects) in each galaxy. It has units of kilometers per second (km/s). We can assign units in astropy to values as follows:"
   ]
  },
  {
   "cell_type": "code",
   "execution_count": 92,
   "id": "9fcd75e1-bc06-4a8b-966b-7d18d921f81f",
   "metadata": {},
   "outputs": [
    {
     "data": {
      "text/latex": [
       "$41.06273 \\; \\mathrm{\\frac{km}{s}}$"
      ],
      "text/plain": [
       "<Quantity 41.06273 km / s>"
      ]
     },
     "execution_count": 92,
     "metadata": {},
     "output_type": "execute_result"
    }
   ],
   "source": [
    "data['SIGMA'][0]*u.km/u.s"
   ]
  },
  {
   "cell_type": "markdown",
   "id": "267fee0a-9209-4517-b3f5-aadbfba4b855",
   "metadata": {},
   "source": [
    "Let's try converting some values. $\\color{green}{\\texttt{astropy}}$ also has a module called '$\\texttt{constants}$' that simply stores a long list of universal constants like the speed of light and the mass of a proton. It typically stores these in traditional SI units, but we can also conver them to things like solar masses and parsecs."
   ]
  },
  {
   "cell_type": "code",
   "execution_count": 93,
   "id": "fdb8ad46-ec51-47e3-a197-67ab895d1337",
   "metadata": {},
   "outputs": [],
   "source": [
    "sun = const.M_sun\n",
    "earth = const.M_earth\n",
    "c = const.c\n",
    "R_J = const.R_jup"
   ]
  },
  {
   "cell_type": "code",
   "execution_count": 94,
   "id": "134f115c-1e65-4a6a-8211-30b5567d0c73",
   "metadata": {},
   "outputs": [
    {
     "name": "stdout",
     "output_type": "stream",
     "text": [
      "The mass of the sun is 1.988409870698051e+30 kg, the mass of the Earth is 5.972167867791379e+24 kg, the speed of light is 299792458.0 m / s, and the size of Jupiter is 71492000.0 m\n"
     ]
    }
   ],
   "source": [
    "print('The mass of the sun is {}, the mass of the Earth is {}, the speed of light is {}, and the size of Jupiter is {}'.format(sun, earth, c, R_J))"
   ]
  },
  {
   "cell_type": "markdown",
   "id": "42e0d967-6e5e-49b5-bd14-563ebc6e3319",
   "metadata": {},
   "source": [
    "We can easily convert these to cgs units by adding $\\texttt{.cgs}$ to the end of the statement as follows:"
   ]
  },
  {
   "cell_type": "code",
   "execution_count": 96,
   "id": "545e45ec-a98b-4bf5-8f98-db8bf693aac7",
   "metadata": {},
   "outputs": [
    {
     "data": {
      "text/latex": [
       "$1.9884099 \\times 10^{30} \\; \\mathrm{kg}$"
      ],
      "text/plain": [
       "<<class 'astropy.constants.iau2015.IAU2015'> name='Solar mass' value=1.988409870698051e+30 uncertainty=4.468805426856864e+25 unit='kg' reference='IAU 2015 Resolution B 3 + CODATA 2018'>"
      ]
     },
     "execution_count": 96,
     "metadata": {},
     "output_type": "execute_result"
    }
   ],
   "source": [
    "sun"
   ]
  },
  {
   "cell_type": "code",
   "execution_count": 95,
   "id": "5e4890df-cbe5-429d-ae52-d5aa79db3507",
   "metadata": {},
   "outputs": [
    {
     "data": {
      "text/latex": [
       "$1.9884099 \\times 10^{33} \\; \\mathrm{g}$"
      ],
      "text/plain": [
       "<Quantity 1.98840987e+33 g>"
      ]
     },
     "execution_count": 95,
     "metadata": {},
     "output_type": "execute_result"
    }
   ],
   "source": [
    "sun.cgs"
   ]
  },
  {
   "cell_type": "code",
   "execution_count": 83,
   "id": "1c500181-0c9e-4387-ad46-30be9fadf659",
   "metadata": {},
   "outputs": [
    {
     "data": {
      "text/latex": [
       "$5.9721679 \\times 10^{27} \\; \\mathrm{g}$"
      ],
      "text/plain": [
       "<Quantity 5.97216787e+27 g>"
      ]
     },
     "execution_count": 83,
     "metadata": {},
     "output_type": "execute_result"
    }
   ],
   "source": [
    "earth.cgs"
   ]
  },
  {
   "cell_type": "markdown",
   "id": "22d14d73-83f6-4392-8e90-d205e496e2c8",
   "metadata": {},
   "source": [
    "Try converting these values though to $M_{\\odot}$ and pc/s: "
   ]
  },
  {
   "cell_type": "code",
   "execution_count": 98,
   "id": "ae3fd899-d96c-4bbf-bbf0-0bb2fbac80c0",
   "metadata": {},
   "outputs": [
    {
     "data": {
      "text/latex": [
       "$1 \\; \\mathrm{M_{\\odot}}$"
      ],
      "text/plain": [
       "<Quantity 1. solMass>"
      ]
     },
     "execution_count": 98,
     "metadata": {},
     "output_type": "execute_result"
    }
   ],
   "source": [
    "sun.to(u.M_sun)"
   ]
  },
  {
   "cell_type": "code",
   "execution_count": 99,
   "id": "7150f7f0-147a-424e-87a9-011dffcc5a08",
   "metadata": {},
   "outputs": [
    {
     "data": {
      "text/latex": [
       "$3.0034893 \\times 10^{-6} \\; \\mathrm{M_{\\odot}}$"
      ],
      "text/plain": [
       "<Quantity 3.00348935e-06 solMass>"
      ]
     },
     "execution_count": 99,
     "metadata": {},
     "output_type": "execute_result"
    }
   ],
   "source": [
    "earth.to(u.M_sun)"
   ]
  },
  {
   "cell_type": "code",
   "execution_count": 100,
   "id": "b1dd4cd3-f574-43bb-b4b8-f889028be910",
   "metadata": {},
   "outputs": [
    {
     "data": {
      "text/latex": [
       "$9.7156119 \\times 10^{-9} \\; \\mathrm{\\frac{pc}{s}}$"
      ],
      "text/plain": [
       "<Quantity 9.71561189e-09 pc / s>"
      ]
     },
     "execution_count": 100,
     "metadata": {},
     "output_type": "execute_result"
    }
   ],
   "source": [
    "c.to(u.pc/u.s)"
   ]
  },
  {
   "cell_type": "markdown",
   "id": "17b08ed9-c723-4f1b-9d56-61948ff71433",
   "metadata": {},
   "source": [
    "### Working with logarithms and scientific notation"
   ]
  },
  {
   "cell_type": "markdown",
   "id": "2d9a1652-eb03-4725-a009-b685556fbad3",
   "metadata": {},
   "source": [
    "One of the columns in our dataframe is called 'LOG_MSTELLAR'. This means, that if you take $\\log{M_{\\odot}}$ you'll get the value in the column. Logarithms are set up like so:\n",
    "\n",
    "If $b^y = x$ then\n",
    "\n",
    "$\\log_b{x} = y$\n",
    "\n",
    "If you just see $\\log$ the default base $b$ is 10. So to get the actual mass of the galaxies, you would take 10 and raise it to the power of everything in that column. Let's do that now, and create a new column called 'MSTELLAR'."
   ]
  },
  {
   "cell_type": "code",
   "execution_count": 101,
   "id": "8b7b8035-384e-4a6b-a25f-b4f1b015d378",
   "metadata": {},
   "outputs": [],
   "source": [
    "data['MSTELLAR'] = 10**data['LOG_MSTELLAR']"
   ]
  },
  {
   "cell_type": "code",
   "execution_count": 102,
   "id": "777b1bc7-da4e-4611-ba50-85906f56ed30",
   "metadata": {},
   "outputs": [
    {
     "data": {
      "text/plain": [
       "0        8.092729e+09\n",
       "1        3.200405e+09\n",
       "2        6.858972e+09\n",
       "3        5.672271e+09\n",
       "4        1.359537e+10\n",
       "             ...     \n",
       "47670    2.050256e+11\n",
       "47671    2.115378e+10\n",
       "47672    4.141160e+10\n",
       "47673    1.440280e+10\n",
       "47674    1.511855e+11\n",
       "Name: MSTELLAR, Length: 47675, dtype: float64"
      ]
     },
     "execution_count": 102,
     "metadata": {},
     "output_type": "execute_result"
    }
   ],
   "source": [
    "data['MSTELLAR']"
   ]
  },
  {
   "cell_type": "markdown",
   "id": "f6201446-08f1-4e9d-b621-bc95c12dd914",
   "metadata": {},
   "source": [
    "Now you'll notice that the numbers become some decimal 'e+x'. This is the computational shorthand for $\\times 10^x$, a format known as 'scientific notation.' When we have really large or really small numbers, it's easier to write in scientific notation."
   ]
  },
  {
   "cell_type": "markdown",
   "id": "1ee8e999-7732-4e74-ad37-e26fac384411",
   "metadata": {},
   "source": [
    "When it comes to plotting these large numbers, it's might be difficult to show them all on the same plot if we use the traditional linear (1, 2, 3, 4, 5, etc.) scale. Let's try plotting the masses and radiuses of several constants:"
   ]
  },
  {
   "cell_type": "code",
   "execution_count": 103,
   "id": "71b7d747-99b8-491c-acf0-0e2774eb2df8",
   "metadata": {},
   "outputs": [],
   "source": [
    "m_sun = const.M_sun\n",
    "m_ear = const.M_earth\n",
    "m_jup = const.M_jup\n",
    "m_pro = const.m_p #mass of a proton\n",
    "m_ele = const.m_e #mass of an electron\n",
    "m_neu = const.m_n #mass of a neutron\n",
    "r_sun = const.R_sun\n",
    "r_ear = const.R_earth\n",
    "r_jup = const.R_jup\n",
    "r_pro = 0.83e-15 #radius of a proton in m\n",
    "r_neu = 0.8e-15 #radius of a neutron \n",
    "r_ele = 2.81e-15 #radius of an electron"
   ]
  },
  {
   "cell_type": "code",
   "execution_count": 108,
   "id": "5433f1d6-55b1-4490-958a-86ac9812bded",
   "metadata": {},
   "outputs": [
    {
     "data": {
      "image/png": "[encoded data removed]",
      "text/plain": [
       "<Figure size 640x480 with 1 Axes>"
      ]
     },
     "metadata": {},
     "output_type": "display_data"
    }
   ],
   "source": [
    "#scatter plot format: plt.scatter(x, y, **kwargs) \"kwargs\" = \"keyword arguments\" (e.g. color, size, shape, label, etc)\n",
    " \n",
    "plt.scatter(r_sun, m_sun, label='Sun')\n",
    "plt.scatter(r_ear, m_ear, label='Earth')\n",
    "plt.scatter(r_jup, m_jup, label='Jupiter')\n",
    "plt.scatter(r_pro, m_pro, label='Proton')\n",
    "plt.scatter(r_neu, m_neu, label='Neutron')\n",
    "plt.scatter(r_ele, m_ele, label='Electron')\n",
    "\n",
    "plt.xlabel('Radius (m)')\n",
    "plt.ylabel('Mass (kg)')\n",
    "plt.xscale('log')\n",
    "plt.yscale('log')\n",
    "plt.legend()\n",
    "plt.show()"
   ]
  },
  {
   "cell_type": "markdown",
   "id": "815f00c1-43e3-402e-a35b-7fb755977350",
   "metadata": {},
   "source": [
    "# Python for Astronomy"
   ]
  },
  {
   "cell_type": "markdown",
   "id": "bd2e86be-effe-4c3a-9215-b24c885a8cd1",
   "metadata": {},
   "source": [
    "Let's look at how we can derive some meaning from data plots. There are several libraries that can do statistical fits to data, but we will start with $\\color{green}{\\texttt{scipy}}$. $\\color{green}{\\texttt{scipy}}$ is a Science Python library that contains functions that can be used for many things, not just astronomy."
   ]
  },
  {
   "cell_type": "code",
   "execution_count": 110,
   "id": "3040a3b5-0f13-48a7-9985-e7abc88ef311",
   "metadata": {},
   "outputs": [],
   "source": [
    "from scipy import stats\n",
    "rng = np.random.default_rng()"
   ]
  },
  {
   "cell_type": "markdown",
   "id": "c8d1777a-aae9-46d2-bfcf-47022304e636",
   "metadata": {},
   "source": [
    "If you have a 2D distribution of data - that is, data with two variables (like mass and radius) - in a scatter plot, there might be some linear relationship between the two. We can perform what's known as a linear regression using $\\color{green}{\\texttt{scipy}}$ to figure out that linear relationship. Let's demonstrate first with some random sampling of data that we know roughly follows a line:"
   ]
  },
  {
   "cell_type": "code",
   "execution_count": 111,
   "id": "aab3bcb8-8d78-4507-b2a1-824f94a4abb6",
   "metadata": {},
   "outputs": [],
   "source": [
    "x = rng.random(50)\n",
    "y = 2.4*x + rng.random(50)"
   ]
  },
  {
   "cell_type": "markdown",
   "id": "b261efdf-664a-4e9d-b497-ea46c45518fd",
   "metadata": {},
   "source": [
    "To perform the linear regression is simple:"
   ]
  },
  {
   "cell_type": "code",
   "execution_count": 113,
   "id": "afc1a0ce-e2f3-4535-982e-6fc9c53e2e0e",
   "metadata": {},
   "outputs": [
    {
     "name": "stdout",
     "output_type": "stream",
     "text": [
      "LinregressResult(slope=2.6403796012575174, intercept=0.3292792122445267, rvalue=0.9424872694716198, pvalue=1.7323206072305498e-24, stderr=0.13515475872988428, intercept_stderr=0.07805525950976493)\n"
     ]
    }
   ],
   "source": [
    "reg = stats.linregress(x,y)\n",
    "print(reg)"
   ]
  },
  {
   "cell_type": "markdown",
   "id": "da5f93bc-a29e-4ef8-af2b-e15530eb61e1",
   "metadata": {},
   "source": [
    "The $\\texttt{stats.linregress}$ function takes the x and y of your data and returns the slope, intercept, r-value, p-value, standard deviation, and intercept standard deviation of the line that fits the data best. Now let's plot the data to see what this looks like:"
   ]
  },
  {
   "cell_type": "code",
   "execution_count": 120,
   "id": "b0bdbb96-948e-40b2-8ed3-84e56c2556bf",
   "metadata": {},
   "outputs": [
    {
     "data": {
      "image/png": "[encoded data removed]",
      "text/plain": [
       "<Figure size 640x480 with 1 Axes>"
      ]
     },
     "metadata": {},
     "output_type": "display_data"
    }
   ],
   "source": [
    "plt.scatter(x,y, label='Data')\n",
    "plt.plot(x,reg.intercept + reg.slope*x, label='Fitted line', color='orange')\n",
    "plt.xlabel('x')\n",
    "plt.ylabel('y')\n",
    "plt.annotate('The equation for the line of best fit is \\n y = {}x + {}'.format(np.round(reg.slope, 3), np.round(reg.intercept, 3)), (0, 2.5))\n",
    "plt.legend()\n",
    "plt.show()"
   ]
  },
  {
   "cell_type": "markdown",
   "id": "d1142050-86f7-46eb-9a72-e4b3bb7984c5",
   "metadata": {},
   "source": [
    "As we can see, the dots of our random data roughly follow along the line that we've fit to it. The slope of the line it calculates is pretty close to the given value of the random data (2.4)."
   ]
  },
  {
   "cell_type": "markdown",
   "id": "6840a056-bb97-49ed-9795-e5569e1ba536",
   "metadata": {},
   "source": [
    "But what about if we have a log-log plot? In that case, we have to apply the 'linear' regression to logs of our data. Let's go back to that plot of mass versus radius."
   ]
  },
  {
   "cell_type": "code",
   "execution_count": 129,
   "id": "65c933e7-6099-473e-8708-ebc7455646c7",
   "metadata": {},
   "outputs": [
    {
     "data": {
      "text/plain": [
       "numpy.float64"
      ]
     },
     "execution_count": 129,
     "metadata": {},
     "output_type": "execute_result"
    }
   ],
   "source": [
    "type(r_sun.value)"
   ]
  },
  {
   "cell_type": "code",
   "execution_count": null,
   "id": "74d340b7-f0cd-48f6-88df-061992ad1ac7",
   "metadata": {},
   "outputs": [],
   "source": [
    "x = [r_sun.value, r_ear.value, r_jup.value, r_pro, r_neu, r_ele]\n",
    "y = [m_sun.value, m_ear.value, m_jup.value, m_pro.value, m_neu.value, m_ele.value]\n",
    "\n",
    "coefs = np.polyfit(np.log(x), np.log(y), 1)\n",
    "pred_f = coefs[1] + np.multiply(sorted(np.log(x)), coefs[0])"
   ]
  },
  {
   "cell_type": "code",
   "execution_count": 135,
   "id": "e6a512cb-dd60-4c17-82fe-2636e552c48a",
   "metadata": {},
   "outputs": [
    {
     "data": {
      "text/plain": [
       "array([ 2.43076604, 19.32619185])"
      ]
     },
     "execution_count": 135,
     "metadata": {},
     "output_type": "execute_result"
    }
   ],
   "source": [
    "coefs"
   ]
  },
  {
   "cell_type": "code",
   "execution_count": 140,
   "id": "a49c965e-5b6e-4c65-b5a9-c2f80063713d",
   "metadata": {},
   "outputs": [
    {
     "data": {
      "text/plain": [
       "2.431"
      ]
     },
     "execution_count": 140,
     "metadata": {},
     "output_type": "execute_result"
    }
   ],
   "source": [
    "np.round(coefs[0],3)"
   ]
  },
  {
   "cell_type": "code",
   "execution_count": 154,
   "id": "30b3394e-021e-487a-8aca-a1d694b99eba",
   "metadata": {},
   "outputs": [
    {
     "data": {
      "image/png": "[encoded data removed]",
      "text/plain": [
       "<Figure size 640x480 with 1 Axes>"
      ]
     },
     "metadata": {},
     "output_type": "display_data"
    }
   ],
   "source": [
    "plt.scatter(x, y, label='Astronomical and Atomic Bodies')\n",
    "plt.plot(sorted(x), np.exp(pred_f), label='Fitted line', color='orange')\n",
    "plt.annotate('The equation for the line of best fit is \\n $y = {:.2f}x^{:.2f}$'.format(coefs[1], coefs[0]), (1e-13, 1e14))\n",
    "plt.xscale('log')\n",
    "plt.yscale('log')\n",
    "plt.xlabel('Radius (m)')\n",
    "plt.ylabel('Mass (kg)')\n",
    "plt.legend()\n",
    "plt.show()"
   ]
  },
  {
   "cell_type": "markdown",
   "id": "22d20ef5-4d14-4fa4-a0f6-2569faba7a2a",
   "metadata": {},
   "source": [
    "Which honestly, is pretty good all things considered. A normal, solid sphere has $M \\propto R^3$, a star has $M \\propto R^{1.25}$, and planets have $M \\propto R^{1.8}$ for small planets (large planets don't have much of a mass-radius relation). At the subatomic scale, particles follow a mass-radius relationship closer to a solid sphere. All this to say, it makes sense that the predicted slope of this line on a logarithmic plot is between 1.25 and 3 at 2.43."
   ]
  },
  {
   "cell_type": "code",
   "execution_count": 168,
   "id": "91668939-9429-4016-add1-79a82cacb1a1",
   "metadata": {},
   "outputs": [
    {
     "data": {
      "image/png": "[encoded data removed]",
      "text/plain": [
       "<Figure size 640x480 with 1 Axes>"
      ]
     },
     "metadata": {},
     "output_type": "display_data"
    }
   ],
   "source": [
    "r = np.logspace(-12, 8, 20)\n",
    "m_sp = 1e9*r**3\n",
    "m_st = 1e9*r**1.25\n",
    "m_pl = 1e9*r**1.8\n",
    "\n",
    "plt.scatter(x, y, label='Astronomical and Atomic Bodies')\n",
    "plt.plot(sorted(x), np.exp(pred_f), label='Fitted line', color='orange')\n",
    "plt.plot(r, m_sp, label='Sphere', color='plum')\n",
    "plt.plot(r, m_st, label='Star', color='gold')\n",
    "plt.plot(r, m_pl, label='Planet', color='lightgreen')\n",
    "plt.annotate('The equation for the line of best fit is \\n $y = {:.2f}x^{:.2f}$'.format(coefs[1], coefs[0]), (1e-13, 1e5))\n",
    "plt.xscale('log')\n",
    "plt.yscale('log')\n",
    "plt.xlabel('Radius (m)')\n",
    "plt.ylabel('Mass (kg)')\n",
    "plt.legend()\n",
    "plt.show()"
   ]
  },
  {
   "cell_type": "code",
   "execution_count": null,
   "id": "e6a6cfdc-c334-4b39-a15f-6731cb450d19",
   "metadata": {},
   "outputs": [],
   "source": []
  }
 ],
 "metadata": {
  "kernelspec": {
   "display_name": "Python 3 (ipykernel)",
   "language": "python",
   "name": "python3"
  },
  "language_info": {
   "codemirror_mode": {
    "name": "ipython",
    "version": 3
   },
   "file_extension": ".py",
   "mimetype": "text/x-python",
   "name": "python",
   "nbconvert_exporter": "python",
   "pygments_lexer": "ipython3",
   "version": "3.11.7"
  }
 },
 "nbformat": 4,
 "nbformat_minor": 5
}
